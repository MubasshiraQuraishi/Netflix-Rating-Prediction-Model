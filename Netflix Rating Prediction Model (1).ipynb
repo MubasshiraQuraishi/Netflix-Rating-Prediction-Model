{
 "cells": [
  {
   "cell_type": "markdown",
   "id": "b466d7c8",
   "metadata": {},
   "source": [
    "# Importing Dependencies"
   ]
  },
  {
   "cell_type": "code",
   "execution_count": 1,
   "id": "f4f37f61",
   "metadata": {},
   "outputs": [],
   "source": [
    "import pandas as pd\n",
    "import numpy as np\n",
    "import seaborn as sns\n",
    "import matplotlib.pyplot as plt\n",
    "\n",
    "import warnings\n",
    "warnings.filterwarnings('ignore')"
   ]
  },
  {
   "cell_type": "code",
   "execution_count": 2,
   "id": "af48ddbe",
   "metadata": {},
   "outputs": [],
   "source": [
    "#Reading CSV File\n",
    "netflix_df = pd.read_csv(\"netflix_titles.csv\")"
   ]
  },
  {
   "cell_type": "code",
   "execution_count": 3,
   "id": "16f3264c",
   "metadata": {},
   "outputs": [
    {
     "data": {
      "text/html": [
       "<div>\n",
       "<style scoped>\n",
       "    .dataframe tbody tr th:only-of-type {\n",
       "        vertical-align: middle;\n",
       "    }\n",
       "\n",
       "    .dataframe tbody tr th {\n",
       "        vertical-align: top;\n",
       "    }\n",
       "\n",
       "    .dataframe thead th {\n",
       "        text-align: right;\n",
       "    }\n",
       "</style>\n",
       "<table border=\"1\" class=\"dataframe\">\n",
       "  <thead>\n",
       "    <tr style=\"text-align: right;\">\n",
       "      <th></th>\n",
       "      <th>show_id</th>\n",
       "      <th>type</th>\n",
       "      <th>title</th>\n",
       "      <th>director</th>\n",
       "      <th>cast</th>\n",
       "      <th>country</th>\n",
       "      <th>date_added</th>\n",
       "      <th>release_year</th>\n",
       "      <th>rating</th>\n",
       "      <th>duration</th>\n",
       "      <th>listed_in</th>\n",
       "      <th>description</th>\n",
       "    </tr>\n",
       "  </thead>\n",
       "  <tbody>\n",
       "    <tr>\n",
       "      <th>0</th>\n",
       "      <td>s1</td>\n",
       "      <td>Movie</td>\n",
       "      <td>Dick Johnson Is Dead</td>\n",
       "      <td>Kirsten Johnson</td>\n",
       "      <td>NaN</td>\n",
       "      <td>United States</td>\n",
       "      <td>September 25, 2021</td>\n",
       "      <td>2020</td>\n",
       "      <td>PG-13</td>\n",
       "      <td>90 min</td>\n",
       "      <td>Documentaries</td>\n",
       "      <td>As her father nears the end of his life, filmm...</td>\n",
       "    </tr>\n",
       "    <tr>\n",
       "      <th>1</th>\n",
       "      <td>s2</td>\n",
       "      <td>TV Show</td>\n",
       "      <td>Blood &amp; Water</td>\n",
       "      <td>NaN</td>\n",
       "      <td>Ama Qamata, Khosi Ngema, Gail Mabalane, Thaban...</td>\n",
       "      <td>South Africa</td>\n",
       "      <td>September 24, 2021</td>\n",
       "      <td>2021</td>\n",
       "      <td>TV-MA</td>\n",
       "      <td>2 Seasons</td>\n",
       "      <td>International TV Shows, TV Dramas, TV Mysteries</td>\n",
       "      <td>After crossing paths at a party, a Cape Town t...</td>\n",
       "    </tr>\n",
       "    <tr>\n",
       "      <th>2</th>\n",
       "      <td>s3</td>\n",
       "      <td>TV Show</td>\n",
       "      <td>Ganglands</td>\n",
       "      <td>Julien Leclercq</td>\n",
       "      <td>Sami Bouajila, Tracy Gotoas, Samuel Jouy, Nabi...</td>\n",
       "      <td>NaN</td>\n",
       "      <td>September 24, 2021</td>\n",
       "      <td>2021</td>\n",
       "      <td>TV-MA</td>\n",
       "      <td>1 Season</td>\n",
       "      <td>Crime TV Shows, International TV Shows, TV Act...</td>\n",
       "      <td>To protect his family from a powerful drug lor...</td>\n",
       "    </tr>\n",
       "    <tr>\n",
       "      <th>3</th>\n",
       "      <td>s4</td>\n",
       "      <td>TV Show</td>\n",
       "      <td>Jailbirds New Orleans</td>\n",
       "      <td>NaN</td>\n",
       "      <td>NaN</td>\n",
       "      <td>NaN</td>\n",
       "      <td>September 24, 2021</td>\n",
       "      <td>2021</td>\n",
       "      <td>TV-MA</td>\n",
       "      <td>1 Season</td>\n",
       "      <td>Docuseries, Reality TV</td>\n",
       "      <td>Feuds, flirtations and toilet talk go down amo...</td>\n",
       "    </tr>\n",
       "    <tr>\n",
       "      <th>4</th>\n",
       "      <td>s5</td>\n",
       "      <td>TV Show</td>\n",
       "      <td>Kota Factory</td>\n",
       "      <td>NaN</td>\n",
       "      <td>Mayur More, Jitendra Kumar, Ranjan Raj, Alam K...</td>\n",
       "      <td>India</td>\n",
       "      <td>September 24, 2021</td>\n",
       "      <td>2021</td>\n",
       "      <td>TV-MA</td>\n",
       "      <td>2 Seasons</td>\n",
       "      <td>International TV Shows, Romantic TV Shows, TV ...</td>\n",
       "      <td>In a city of coaching centers known to train I...</td>\n",
       "    </tr>\n",
       "  </tbody>\n",
       "</table>\n",
       "</div>"
      ],
      "text/plain": [
       "  show_id     type                  title         director  \\\n",
       "0      s1    Movie   Dick Johnson Is Dead  Kirsten Johnson   \n",
       "1      s2  TV Show          Blood & Water              NaN   \n",
       "2      s3  TV Show              Ganglands  Julien Leclercq   \n",
       "3      s4  TV Show  Jailbirds New Orleans              NaN   \n",
       "4      s5  TV Show           Kota Factory              NaN   \n",
       "\n",
       "                                                cast        country  \\\n",
       "0                                                NaN  United States   \n",
       "1  Ama Qamata, Khosi Ngema, Gail Mabalane, Thaban...   South Africa   \n",
       "2  Sami Bouajila, Tracy Gotoas, Samuel Jouy, Nabi...            NaN   \n",
       "3                                                NaN            NaN   \n",
       "4  Mayur More, Jitendra Kumar, Ranjan Raj, Alam K...          India   \n",
       "\n",
       "           date_added  release_year rating   duration  \\\n",
       "0  September 25, 2021          2020  PG-13     90 min   \n",
       "1  September 24, 2021          2021  TV-MA  2 Seasons   \n",
       "2  September 24, 2021          2021  TV-MA   1 Season   \n",
       "3  September 24, 2021          2021  TV-MA   1 Season   \n",
       "4  September 24, 2021          2021  TV-MA  2 Seasons   \n",
       "\n",
       "                                           listed_in  \\\n",
       "0                                      Documentaries   \n",
       "1    International TV Shows, TV Dramas, TV Mysteries   \n",
       "2  Crime TV Shows, International TV Shows, TV Act...   \n",
       "3                             Docuseries, Reality TV   \n",
       "4  International TV Shows, Romantic TV Shows, TV ...   \n",
       "\n",
       "                                         description  \n",
       "0  As her father nears the end of his life, filmm...  \n",
       "1  After crossing paths at a party, a Cape Town t...  \n",
       "2  To protect his family from a powerful drug lor...  \n",
       "3  Feuds, flirtations and toilet talk go down amo...  \n",
       "4  In a city of coaching centers known to train I...  "
      ]
     },
     "execution_count": 3,
     "metadata": {},
     "output_type": "execute_result"
    }
   ],
   "source": [
    "netflix_df.head()"
   ]
  },
  {
   "cell_type": "code",
   "execution_count": 4,
   "id": "1c7350ad",
   "metadata": {},
   "outputs": [
    {
     "data": {
      "text/plain": [
       "(8807, 12)"
      ]
     },
     "execution_count": 4,
     "metadata": {},
     "output_type": "execute_result"
    }
   ],
   "source": [
    "netflix_df.shape"
   ]
  },
  {
   "cell_type": "markdown",
   "id": "1bc28227",
   "metadata": {},
   "source": [
    "There are 8807 rows and 12 columns in DataFrame"
   ]
  },
  {
   "cell_type": "markdown",
   "id": "b291aaf9",
   "metadata": {},
   "source": [
    "**Statistical Overview of Data in a Netflix DataFrame**"
   ]
  },
  {
   "cell_type": "code",
   "execution_count": 5,
   "id": "727ead59",
   "metadata": {
    "scrolled": true
   },
   "outputs": [
    {
     "data": {
      "text/html": [
       "<div>\n",
       "<style scoped>\n",
       "    .dataframe tbody tr th:only-of-type {\n",
       "        vertical-align: middle;\n",
       "    }\n",
       "\n",
       "    .dataframe tbody tr th {\n",
       "        vertical-align: top;\n",
       "    }\n",
       "\n",
       "    .dataframe thead th {\n",
       "        text-align: right;\n",
       "    }\n",
       "</style>\n",
       "<table border=\"1\" class=\"dataframe\">\n",
       "  <thead>\n",
       "    <tr style=\"text-align: right;\">\n",
       "      <th></th>\n",
       "      <th>show_id</th>\n",
       "      <th>type</th>\n",
       "      <th>title</th>\n",
       "      <th>director</th>\n",
       "      <th>cast</th>\n",
       "      <th>country</th>\n",
       "      <th>date_added</th>\n",
       "      <th>release_year</th>\n",
       "      <th>rating</th>\n",
       "      <th>duration</th>\n",
       "      <th>listed_in</th>\n",
       "      <th>description</th>\n",
       "    </tr>\n",
       "  </thead>\n",
       "  <tbody>\n",
       "    <tr>\n",
       "      <th>count</th>\n",
       "      <td>8807</td>\n",
       "      <td>8807</td>\n",
       "      <td>8807</td>\n",
       "      <td>6173</td>\n",
       "      <td>7982</td>\n",
       "      <td>7976</td>\n",
       "      <td>8797</td>\n",
       "      <td>8807.000000</td>\n",
       "      <td>8803</td>\n",
       "      <td>8804</td>\n",
       "      <td>8807</td>\n",
       "      <td>8807</td>\n",
       "    </tr>\n",
       "    <tr>\n",
       "      <th>unique</th>\n",
       "      <td>8807</td>\n",
       "      <td>2</td>\n",
       "      <td>8807</td>\n",
       "      <td>4528</td>\n",
       "      <td>7692</td>\n",
       "      <td>748</td>\n",
       "      <td>1767</td>\n",
       "      <td>NaN</td>\n",
       "      <td>17</td>\n",
       "      <td>220</td>\n",
       "      <td>514</td>\n",
       "      <td>8775</td>\n",
       "    </tr>\n",
       "    <tr>\n",
       "      <th>top</th>\n",
       "      <td>s1</td>\n",
       "      <td>Movie</td>\n",
       "      <td>Dick Johnson Is Dead</td>\n",
       "      <td>Rajiv Chilaka</td>\n",
       "      <td>David Attenborough</td>\n",
       "      <td>United States</td>\n",
       "      <td>January 1, 2020</td>\n",
       "      <td>NaN</td>\n",
       "      <td>TV-MA</td>\n",
       "      <td>1 Season</td>\n",
       "      <td>Dramas, International Movies</td>\n",
       "      <td>Paranormal activity at a lush, abandoned prope...</td>\n",
       "    </tr>\n",
       "    <tr>\n",
       "      <th>freq</th>\n",
       "      <td>1</td>\n",
       "      <td>6131</td>\n",
       "      <td>1</td>\n",
       "      <td>19</td>\n",
       "      <td>19</td>\n",
       "      <td>2818</td>\n",
       "      <td>109</td>\n",
       "      <td>NaN</td>\n",
       "      <td>3207</td>\n",
       "      <td>1793</td>\n",
       "      <td>362</td>\n",
       "      <td>4</td>\n",
       "    </tr>\n",
       "    <tr>\n",
       "      <th>mean</th>\n",
       "      <td>NaN</td>\n",
       "      <td>NaN</td>\n",
       "      <td>NaN</td>\n",
       "      <td>NaN</td>\n",
       "      <td>NaN</td>\n",
       "      <td>NaN</td>\n",
       "      <td>NaN</td>\n",
       "      <td>2014.180198</td>\n",
       "      <td>NaN</td>\n",
       "      <td>NaN</td>\n",
       "      <td>NaN</td>\n",
       "      <td>NaN</td>\n",
       "    </tr>\n",
       "    <tr>\n",
       "      <th>std</th>\n",
       "      <td>NaN</td>\n",
       "      <td>NaN</td>\n",
       "      <td>NaN</td>\n",
       "      <td>NaN</td>\n",
       "      <td>NaN</td>\n",
       "      <td>NaN</td>\n",
       "      <td>NaN</td>\n",
       "      <td>8.819312</td>\n",
       "      <td>NaN</td>\n",
       "      <td>NaN</td>\n",
       "      <td>NaN</td>\n",
       "      <td>NaN</td>\n",
       "    </tr>\n",
       "    <tr>\n",
       "      <th>min</th>\n",
       "      <td>NaN</td>\n",
       "      <td>NaN</td>\n",
       "      <td>NaN</td>\n",
       "      <td>NaN</td>\n",
       "      <td>NaN</td>\n",
       "      <td>NaN</td>\n",
       "      <td>NaN</td>\n",
       "      <td>1925.000000</td>\n",
       "      <td>NaN</td>\n",
       "      <td>NaN</td>\n",
       "      <td>NaN</td>\n",
       "      <td>NaN</td>\n",
       "    </tr>\n",
       "    <tr>\n",
       "      <th>25%</th>\n",
       "      <td>NaN</td>\n",
       "      <td>NaN</td>\n",
       "      <td>NaN</td>\n",
       "      <td>NaN</td>\n",
       "      <td>NaN</td>\n",
       "      <td>NaN</td>\n",
       "      <td>NaN</td>\n",
       "      <td>2013.000000</td>\n",
       "      <td>NaN</td>\n",
       "      <td>NaN</td>\n",
       "      <td>NaN</td>\n",
       "      <td>NaN</td>\n",
       "    </tr>\n",
       "    <tr>\n",
       "      <th>50%</th>\n",
       "      <td>NaN</td>\n",
       "      <td>NaN</td>\n",
       "      <td>NaN</td>\n",
       "      <td>NaN</td>\n",
       "      <td>NaN</td>\n",
       "      <td>NaN</td>\n",
       "      <td>NaN</td>\n",
       "      <td>2017.000000</td>\n",
       "      <td>NaN</td>\n",
       "      <td>NaN</td>\n",
       "      <td>NaN</td>\n",
       "      <td>NaN</td>\n",
       "    </tr>\n",
       "    <tr>\n",
       "      <th>75%</th>\n",
       "      <td>NaN</td>\n",
       "      <td>NaN</td>\n",
       "      <td>NaN</td>\n",
       "      <td>NaN</td>\n",
       "      <td>NaN</td>\n",
       "      <td>NaN</td>\n",
       "      <td>NaN</td>\n",
       "      <td>2019.000000</td>\n",
       "      <td>NaN</td>\n",
       "      <td>NaN</td>\n",
       "      <td>NaN</td>\n",
       "      <td>NaN</td>\n",
       "    </tr>\n",
       "    <tr>\n",
       "      <th>max</th>\n",
       "      <td>NaN</td>\n",
       "      <td>NaN</td>\n",
       "      <td>NaN</td>\n",
       "      <td>NaN</td>\n",
       "      <td>NaN</td>\n",
       "      <td>NaN</td>\n",
       "      <td>NaN</td>\n",
       "      <td>2021.000000</td>\n",
       "      <td>NaN</td>\n",
       "      <td>NaN</td>\n",
       "      <td>NaN</td>\n",
       "      <td>NaN</td>\n",
       "    </tr>\n",
       "  </tbody>\n",
       "</table>\n",
       "</div>"
      ],
      "text/plain": [
       "       show_id   type                 title       director  \\\n",
       "count     8807   8807                  8807           6173   \n",
       "unique    8807      2                  8807           4528   \n",
       "top         s1  Movie  Dick Johnson Is Dead  Rajiv Chilaka   \n",
       "freq         1   6131                     1             19   \n",
       "mean       NaN    NaN                   NaN            NaN   \n",
       "std        NaN    NaN                   NaN            NaN   \n",
       "min        NaN    NaN                   NaN            NaN   \n",
       "25%        NaN    NaN                   NaN            NaN   \n",
       "50%        NaN    NaN                   NaN            NaN   \n",
       "75%        NaN    NaN                   NaN            NaN   \n",
       "max        NaN    NaN                   NaN            NaN   \n",
       "\n",
       "                      cast        country       date_added  release_year  \\\n",
       "count                 7982           7976             8797   8807.000000   \n",
       "unique                7692            748             1767           NaN   \n",
       "top     David Attenborough  United States  January 1, 2020           NaN   \n",
       "freq                    19           2818              109           NaN   \n",
       "mean                   NaN            NaN              NaN   2014.180198   \n",
       "std                    NaN            NaN              NaN      8.819312   \n",
       "min                    NaN            NaN              NaN   1925.000000   \n",
       "25%                    NaN            NaN              NaN   2013.000000   \n",
       "50%                    NaN            NaN              NaN   2017.000000   \n",
       "75%                    NaN            NaN              NaN   2019.000000   \n",
       "max                    NaN            NaN              NaN   2021.000000   \n",
       "\n",
       "       rating  duration                     listed_in  \\\n",
       "count    8803      8804                          8807   \n",
       "unique     17       220                           514   \n",
       "top     TV-MA  1 Season  Dramas, International Movies   \n",
       "freq     3207      1793                           362   \n",
       "mean      NaN       NaN                           NaN   \n",
       "std       NaN       NaN                           NaN   \n",
       "min       NaN       NaN                           NaN   \n",
       "25%       NaN       NaN                           NaN   \n",
       "50%       NaN       NaN                           NaN   \n",
       "75%       NaN       NaN                           NaN   \n",
       "max       NaN       NaN                           NaN   \n",
       "\n",
       "                                              description  \n",
       "count                                                8807  \n",
       "unique                                               8775  \n",
       "top     Paranormal activity at a lush, abandoned prope...  \n",
       "freq                                                    4  \n",
       "mean                                                  NaN  \n",
       "std                                                   NaN  \n",
       "min                                                   NaN  \n",
       "25%                                                   NaN  \n",
       "50%                                                   NaN  \n",
       "75%                                                   NaN  \n",
       "max                                                   NaN  "
      ]
     },
     "execution_count": 5,
     "metadata": {},
     "output_type": "execute_result"
    }
   ],
   "source": [
    "netflix_df.describe(include = \"all\")"
   ]
  },
  {
   "cell_type": "code",
   "execution_count": 6,
   "id": "16a033b9",
   "metadata": {},
   "outputs": [
    {
     "name": "stdout",
     "output_type": "stream",
     "text": [
      "<class 'pandas.core.frame.DataFrame'>\n",
      "RangeIndex: 8807 entries, 0 to 8806\n",
      "Data columns (total 12 columns):\n",
      " #   Column        Non-Null Count  Dtype \n",
      "---  ------        --------------  ----- \n",
      " 0   show_id       8807 non-null   object\n",
      " 1   type          8807 non-null   object\n",
      " 2   title         8807 non-null   object\n",
      " 3   director      6173 non-null   object\n",
      " 4   cast          7982 non-null   object\n",
      " 5   country       7976 non-null   object\n",
      " 6   date_added    8797 non-null   object\n",
      " 7   release_year  8807 non-null   int64 \n",
      " 8   rating        8803 non-null   object\n",
      " 9   duration      8804 non-null   object\n",
      " 10  listed_in     8807 non-null   object\n",
      " 11  description   8807 non-null   object\n",
      "dtypes: int64(1), object(11)\n",
      "memory usage: 825.8+ KB\n"
     ]
    }
   ],
   "source": [
    "netflix_df.info()"
   ]
  },
  {
   "cell_type": "code",
   "execution_count": 7,
   "id": "897f58a3",
   "metadata": {
    "scrolled": true
   },
   "outputs": [
    {
     "data": {
      "text/plain": [
       "show_id          0.000000\n",
       "type             0.000000\n",
       "title            0.000000\n",
       "director        29.908028\n",
       "cast             9.367549\n",
       "country          9.435676\n",
       "date_added       0.113546\n",
       "release_year     0.000000\n",
       "rating           0.045418\n",
       "duration         0.034064\n",
       "listed_in        0.000000\n",
       "description      0.000000\n",
       "dtype: float64"
      ]
     },
     "execution_count": 7,
     "metadata": {},
     "output_type": "execute_result"
    }
   ],
   "source": [
    "#Percentage of missing values\n",
    "missing_val = netflix_df.isnull().sum()/len(netflix_df)*100\n",
    "missing_val"
   ]
  },
  {
   "cell_type": "code",
   "execution_count": 8,
   "id": "789b831d",
   "metadata": {},
   "outputs": [],
   "source": [
    "#Columns directors, cast, Listed_in, country are unnested consisting more than 1 values\n",
    "#Hence unnesting those columns\n",
    "\n",
    "dir_constraint=netflix_df['director'].apply(lambda x: str(x).split(', ')).tolist()\n",
    "df1 = pd.DataFrame(dir_constraint, index = netflix_df['title']) \n",
    "df1 = df1.stack()\n",
    "df1 = pd.DataFrame(df1.reset_index())\n",
    "df1.rename(columns={0:'Directors'},inplace=True)\n",
    "df1 = df1.drop(['level_1'],axis=1)\n",
    "\n",
    "\n",
    "cast_constraint=netflix_df['cast'].apply(lambda x: str(x).split(', ')).tolist()\n",
    "df2 = pd.DataFrame(cast_constraint, index = netflix_df['title']) \n",
    "df2 = df2.stack()\n",
    "df2 = pd.DataFrame(df2.reset_index())\n",
    "df2.rename(columns={0:'Actors'},inplace=True)\n",
    "df2 = df2.drop(['level_1'],axis=1)\n",
    "df2.head(10)\n",
    "\n",
    "listed_constraint=netflix_df['listed_in'].apply(lambda x: str(x).split(', ')).tolist()\n",
    "df3 = pd.DataFrame(listed_constraint, index = netflix_df['title']) \n",
    "df3 = df3.stack()\n",
    "df3 = pd.DataFrame(df3.reset_index())\n",
    "df3.rename(columns={0:'Genre'},inplace=True)\n",
    "df3 = df3.drop(['level_1'],axis=1)\n",
    "\n",
    "country_constraint=netflix_df['country'].apply(lambda x: str(x).split(', ')).tolist()\n",
    "df4 = pd.DataFrame(country_constraint, index = netflix_df['title']) \n",
    "df4 = df4.stack()\n",
    "df4 = pd.DataFrame(df4.reset_index())\n",
    "df4.rename(columns={0:'Country'},inplace=True)\n",
    "df4 = df4.drop(['level_1'],axis=1)"
   ]
  },
  {
   "cell_type": "code",
   "execution_count": 9,
   "id": "81c446a6",
   "metadata": {},
   "outputs": [
    {
     "data": {
      "text/html": [
       "<div>\n",
       "<style scoped>\n",
       "    .dataframe tbody tr th:only-of-type {\n",
       "        vertical-align: middle;\n",
       "    }\n",
       "\n",
       "    .dataframe tbody tr th {\n",
       "        vertical-align: top;\n",
       "    }\n",
       "\n",
       "    .dataframe thead th {\n",
       "        text-align: right;\n",
       "    }\n",
       "</style>\n",
       "<table border=\"1\" class=\"dataframe\">\n",
       "  <thead>\n",
       "    <tr style=\"text-align: right;\">\n",
       "      <th></th>\n",
       "      <th>title</th>\n",
       "      <th>Actors</th>\n",
       "      <th>Directors</th>\n",
       "      <th>Genre</th>\n",
       "      <th>Country</th>\n",
       "    </tr>\n",
       "  </thead>\n",
       "  <tbody>\n",
       "    <tr>\n",
       "      <th>0</th>\n",
       "      <td>Dick Johnson Is Dead</td>\n",
       "      <td>nan</td>\n",
       "      <td>Kirsten Johnson</td>\n",
       "      <td>Documentaries</td>\n",
       "      <td>United States</td>\n",
       "    </tr>\n",
       "    <tr>\n",
       "      <th>1</th>\n",
       "      <td>Blood &amp; Water</td>\n",
       "      <td>Ama Qamata</td>\n",
       "      <td>nan</td>\n",
       "      <td>International TV Shows</td>\n",
       "      <td>South Africa</td>\n",
       "    </tr>\n",
       "    <tr>\n",
       "      <th>2</th>\n",
       "      <td>Blood &amp; Water</td>\n",
       "      <td>Ama Qamata</td>\n",
       "      <td>nan</td>\n",
       "      <td>TV Dramas</td>\n",
       "      <td>South Africa</td>\n",
       "    </tr>\n",
       "    <tr>\n",
       "      <th>3</th>\n",
       "      <td>Blood &amp; Water</td>\n",
       "      <td>Ama Qamata</td>\n",
       "      <td>nan</td>\n",
       "      <td>TV Mysteries</td>\n",
       "      <td>South Africa</td>\n",
       "    </tr>\n",
       "    <tr>\n",
       "      <th>4</th>\n",
       "      <td>Blood &amp; Water</td>\n",
       "      <td>Khosi Ngema</td>\n",
       "      <td>nan</td>\n",
       "      <td>International TV Shows</td>\n",
       "      <td>South Africa</td>\n",
       "    </tr>\n",
       "  </tbody>\n",
       "</table>\n",
       "</div>"
      ],
      "text/plain": [
       "                  title       Actors        Directors                   Genre  \\\n",
       "0  Dick Johnson Is Dead          nan  Kirsten Johnson           Documentaries   \n",
       "1         Blood & Water   Ama Qamata              nan  International TV Shows   \n",
       "2         Blood & Water   Ama Qamata              nan               TV Dramas   \n",
       "3         Blood & Water   Ama Qamata              nan            TV Mysteries   \n",
       "4         Blood & Water  Khosi Ngema              nan  International TV Shows   \n",
       "\n",
       "         Country  \n",
       "0  United States  \n",
       "1   South Africa  \n",
       "2   South Africa  \n",
       "3   South Africa  \n",
       "4   South Africa  "
      ]
     },
     "execution_count": 9,
     "metadata": {},
     "output_type": "execute_result"
    }
   ],
   "source": [
    "#Collaborating all the unnested columns together before merging with Original DataFrame\n",
    "df5 = df2.merge(df1,on=['title'],how='inner')\n",
    "\n",
    "df6 = df5.merge(df3,on=['title'],how='inner')\n",
    "\n",
    "df7 = df6.merge(df4,on=['title'],how='inner')\n",
    "\n",
    "df7.head()"
   ]
  },
  {
   "cell_type": "code",
   "execution_count": 10,
   "id": "52715b13",
   "metadata": {},
   "outputs": [
    {
     "name": "stdout",
     "output_type": "stream",
     "text": [
      "Shape of new dataframe after collaborating :  (201991, 5)\n"
     ]
    }
   ],
   "source": [
    "print(\"Shape of new dataframe after collaborating : \", df7.shape)"
   ]
  },
  {
   "cell_type": "markdown",
   "id": "b800a412",
   "metadata": {},
   "source": [
    "Merging New Dataframe df7 with Original DataFrame netflix_df"
   ]
  },
  {
   "cell_type": "code",
   "execution_count": 11,
   "id": "e28795fb",
   "metadata": {},
   "outputs": [
    {
     "data": {
      "text/html": [
       "<div>\n",
       "<style scoped>\n",
       "    .dataframe tbody tr th:only-of-type {\n",
       "        vertical-align: middle;\n",
       "    }\n",
       "\n",
       "    .dataframe tbody tr th {\n",
       "        vertical-align: top;\n",
       "    }\n",
       "\n",
       "    .dataframe thead th {\n",
       "        text-align: right;\n",
       "    }\n",
       "</style>\n",
       "<table border=\"1\" class=\"dataframe\">\n",
       "  <thead>\n",
       "    <tr style=\"text-align: right;\">\n",
       "      <th></th>\n",
       "      <th>title</th>\n",
       "      <th>Actors</th>\n",
       "      <th>Directors</th>\n",
       "      <th>Genre</th>\n",
       "      <th>Country</th>\n",
       "      <th>show_id</th>\n",
       "      <th>type</th>\n",
       "      <th>date_added</th>\n",
       "      <th>release_year</th>\n",
       "      <th>rating</th>\n",
       "      <th>duration</th>\n",
       "    </tr>\n",
       "  </thead>\n",
       "  <tbody>\n",
       "    <tr>\n",
       "      <th>0</th>\n",
       "      <td>Dick Johnson Is Dead</td>\n",
       "      <td>nan</td>\n",
       "      <td>Kirsten Johnson</td>\n",
       "      <td>Documentaries</td>\n",
       "      <td>United States</td>\n",
       "      <td>s1</td>\n",
       "      <td>Movie</td>\n",
       "      <td>September 25, 2021</td>\n",
       "      <td>2020</td>\n",
       "      <td>PG-13</td>\n",
       "      <td>90 min</td>\n",
       "    </tr>\n",
       "    <tr>\n",
       "      <th>1</th>\n",
       "      <td>Blood &amp; Water</td>\n",
       "      <td>Ama Qamata</td>\n",
       "      <td>nan</td>\n",
       "      <td>International TV Shows</td>\n",
       "      <td>South Africa</td>\n",
       "      <td>s2</td>\n",
       "      <td>TV Show</td>\n",
       "      <td>September 24, 2021</td>\n",
       "      <td>2021</td>\n",
       "      <td>TV-MA</td>\n",
       "      <td>2 Seasons</td>\n",
       "    </tr>\n",
       "    <tr>\n",
       "      <th>2</th>\n",
       "      <td>Blood &amp; Water</td>\n",
       "      <td>Ama Qamata</td>\n",
       "      <td>nan</td>\n",
       "      <td>TV Dramas</td>\n",
       "      <td>South Africa</td>\n",
       "      <td>s2</td>\n",
       "      <td>TV Show</td>\n",
       "      <td>September 24, 2021</td>\n",
       "      <td>2021</td>\n",
       "      <td>TV-MA</td>\n",
       "      <td>2 Seasons</td>\n",
       "    </tr>\n",
       "    <tr>\n",
       "      <th>3</th>\n",
       "      <td>Blood &amp; Water</td>\n",
       "      <td>Ama Qamata</td>\n",
       "      <td>nan</td>\n",
       "      <td>TV Mysteries</td>\n",
       "      <td>South Africa</td>\n",
       "      <td>s2</td>\n",
       "      <td>TV Show</td>\n",
       "      <td>September 24, 2021</td>\n",
       "      <td>2021</td>\n",
       "      <td>TV-MA</td>\n",
       "      <td>2 Seasons</td>\n",
       "    </tr>\n",
       "    <tr>\n",
       "      <th>4</th>\n",
       "      <td>Blood &amp; Water</td>\n",
       "      <td>Khosi Ngema</td>\n",
       "      <td>nan</td>\n",
       "      <td>International TV Shows</td>\n",
       "      <td>South Africa</td>\n",
       "      <td>s2</td>\n",
       "      <td>TV Show</td>\n",
       "      <td>September 24, 2021</td>\n",
       "      <td>2021</td>\n",
       "      <td>TV-MA</td>\n",
       "      <td>2 Seasons</td>\n",
       "    </tr>\n",
       "  </tbody>\n",
       "</table>\n",
       "</div>"
      ],
      "text/plain": [
       "                  title       Actors        Directors                   Genre  \\\n",
       "0  Dick Johnson Is Dead          nan  Kirsten Johnson           Documentaries   \n",
       "1         Blood & Water   Ama Qamata              nan  International TV Shows   \n",
       "2         Blood & Water   Ama Qamata              nan               TV Dramas   \n",
       "3         Blood & Water   Ama Qamata              nan            TV Mysteries   \n",
       "4         Blood & Water  Khosi Ngema              nan  International TV Shows   \n",
       "\n",
       "         Country show_id     type          date_added  release_year rating  \\\n",
       "0  United States      s1    Movie  September 25, 2021          2020  PG-13   \n",
       "1   South Africa      s2  TV Show  September 24, 2021          2021  TV-MA   \n",
       "2   South Africa      s2  TV Show  September 24, 2021          2021  TV-MA   \n",
       "3   South Africa      s2  TV Show  September 24, 2021          2021  TV-MA   \n",
       "4   South Africa      s2  TV Show  September 24, 2021          2021  TV-MA   \n",
       "\n",
       "    duration  \n",
       "0     90 min  \n",
       "1  2 Seasons  \n",
       "2  2 Seasons  \n",
       "3  2 Seasons  \n",
       "4  2 Seasons  "
      ]
     },
     "execution_count": 11,
     "metadata": {},
     "output_type": "execute_result"
    }
   ],
   "source": [
    "netflix_df = df7.merge(netflix_df[['show_id', 'type', 'title', 'date_added',\n",
    "       'release_year', 'rating', 'duration']],on=['title'],how='left')\n",
    "netflix_df.head()"
   ]
  },
  {
   "cell_type": "code",
   "execution_count": 12,
   "id": "a29a9b44",
   "metadata": {},
   "outputs": [
    {
     "data": {
      "text/plain": [
       "(201991, 11)"
      ]
     },
     "execution_count": 12,
     "metadata": {},
     "output_type": "execute_result"
    }
   ],
   "source": [
    "netflix_df.shape"
   ]
  },
  {
   "cell_type": "markdown",
   "id": "b4851dbb",
   "metadata": {},
   "source": [
    "# Missing Values Treatment"
   ]
  },
  {
   "cell_type": "code",
   "execution_count": 13,
   "id": "98a10f34",
   "metadata": {},
   "outputs": [
    {
     "data": {
      "text/plain": [
       "title             0\n",
       "Actors            0\n",
       "Directors         0\n",
       "Genre             0\n",
       "Country           0\n",
       "show_id           0\n",
       "type              0\n",
       "date_added      158\n",
       "release_year      0\n",
       "rating           67\n",
       "duration          3\n",
       "dtype: int64"
      ]
     },
     "execution_count": 13,
     "metadata": {},
     "output_type": "execute_result"
    }
   ],
   "source": [
    "netflix_df.isnull().sum()"
   ]
  },
  {
   "cell_type": "code",
   "execution_count": 14,
   "id": "8d5ca98e",
   "metadata": {},
   "outputs": [],
   "source": [
    "#Replacing missing values in Cast column\n",
    "netflix_df['Actors'].replace(['nan'],['Unknown Actor'],inplace=True)"
   ]
  },
  {
   "cell_type": "code",
   "execution_count": 15,
   "id": "553cc479",
   "metadata": {},
   "outputs": [],
   "source": [
    "#Replacing missing values in Director column\n",
    "netflix_df['Directors'].replace(['nan'],['Unknown Director'],inplace=True)"
   ]
  },
  {
   "cell_type": "code",
   "execution_count": 16,
   "id": "214dc0f7",
   "metadata": {},
   "outputs": [],
   "source": [
    "#Replacing missing values in country column\n",
    "netflix_df['Country'].replace(['nan'],['Unknown Country'],inplace=True)"
   ]
  },
  {
   "cell_type": "code",
   "execution_count": 17,
   "id": "7c86fc4b",
   "metadata": {},
   "outputs": [
    {
     "data": {
      "text/plain": [
       "title             0\n",
       "Actors            0\n",
       "Directors         0\n",
       "Genre             0\n",
       "Country           0\n",
       "show_id           0\n",
       "type              0\n",
       "date_added      158\n",
       "release_year      0\n",
       "rating           67\n",
       "duration          3\n",
       "dtype: int64"
      ]
     },
     "execution_count": 17,
     "metadata": {},
     "output_type": "execute_result"
    }
   ],
   "source": [
    "netflix_df.isnull().sum()"
   ]
  },
  {
   "cell_type": "code",
   "execution_count": 18,
   "id": "eaa81d36",
   "metadata": {},
   "outputs": [],
   "source": [
    "netflix_df.dropna(inplace = True)"
   ]
  },
  {
   "cell_type": "code",
   "execution_count": 19,
   "id": "575d04d8",
   "metadata": {},
   "outputs": [
    {
     "data": {
      "text/plain": [
       "title           0\n",
       "Actors          0\n",
       "Directors       0\n",
       "Genre           0\n",
       "Country         0\n",
       "show_id         0\n",
       "type            0\n",
       "date_added      0\n",
       "release_year    0\n",
       "rating          0\n",
       "duration        0\n",
       "dtype: int64"
      ]
     },
     "execution_count": 19,
     "metadata": {},
     "output_type": "execute_result"
    }
   ],
   "source": [
    "netflix_df.isnull().sum()"
   ]
  },
  {
   "cell_type": "code",
   "execution_count": 20,
   "id": "9a075e86",
   "metadata": {},
   "outputs": [],
   "source": [
    "#Converting the Date_added column into datetime format\n",
    "netflix_df[\"date_added\"] = pd.to_datetime(netflix_df['date_added'])"
   ]
  },
  {
   "cell_type": "code",
   "execution_count": 21,
   "id": "90d4b503",
   "metadata": {
    "scrolled": true
   },
   "outputs": [
    {
     "data": {
      "text/html": [
       "<div>\n",
       "<style scoped>\n",
       "    .dataframe tbody tr th:only-of-type {\n",
       "        vertical-align: middle;\n",
       "    }\n",
       "\n",
       "    .dataframe tbody tr th {\n",
       "        vertical-align: top;\n",
       "    }\n",
       "\n",
       "    .dataframe thead th {\n",
       "        text-align: right;\n",
       "    }\n",
       "</style>\n",
       "<table border=\"1\" class=\"dataframe\">\n",
       "  <thead>\n",
       "    <tr style=\"text-align: right;\">\n",
       "      <th></th>\n",
       "      <th>title</th>\n",
       "      <th>Actors</th>\n",
       "      <th>Directors</th>\n",
       "      <th>Genre</th>\n",
       "      <th>Country</th>\n",
       "      <th>show_id</th>\n",
       "      <th>type</th>\n",
       "      <th>date_added</th>\n",
       "      <th>release_year</th>\n",
       "      <th>rating</th>\n",
       "      <th>duration</th>\n",
       "    </tr>\n",
       "  </thead>\n",
       "  <tbody>\n",
       "    <tr>\n",
       "      <th>0</th>\n",
       "      <td>Dick Johnson Is Dead</td>\n",
       "      <td>Unknown Actor</td>\n",
       "      <td>Kirsten Johnson</td>\n",
       "      <td>Documentaries</td>\n",
       "      <td>United States</td>\n",
       "      <td>s1</td>\n",
       "      <td>Movie</td>\n",
       "      <td>2021-09-25</td>\n",
       "      <td>2020</td>\n",
       "      <td>PG-13</td>\n",
       "      <td>90</td>\n",
       "    </tr>\n",
       "    <tr>\n",
       "      <th>1</th>\n",
       "      <td>Blood &amp; Water</td>\n",
       "      <td>Ama Qamata</td>\n",
       "      <td>Unknown Director</td>\n",
       "      <td>International TV Shows</td>\n",
       "      <td>South Africa</td>\n",
       "      <td>s2</td>\n",
       "      <td>TV Show</td>\n",
       "      <td>2021-09-24</td>\n",
       "      <td>2021</td>\n",
       "      <td>TV-MA</td>\n",
       "      <td>2 Seasons</td>\n",
       "    </tr>\n",
       "    <tr>\n",
       "      <th>2</th>\n",
       "      <td>Blood &amp; Water</td>\n",
       "      <td>Ama Qamata</td>\n",
       "      <td>Unknown Director</td>\n",
       "      <td>TV Dramas</td>\n",
       "      <td>South Africa</td>\n",
       "      <td>s2</td>\n",
       "      <td>TV Show</td>\n",
       "      <td>2021-09-24</td>\n",
       "      <td>2021</td>\n",
       "      <td>TV-MA</td>\n",
       "      <td>2 Seasons</td>\n",
       "    </tr>\n",
       "    <tr>\n",
       "      <th>3</th>\n",
       "      <td>Blood &amp; Water</td>\n",
       "      <td>Ama Qamata</td>\n",
       "      <td>Unknown Director</td>\n",
       "      <td>TV Mysteries</td>\n",
       "      <td>South Africa</td>\n",
       "      <td>s2</td>\n",
       "      <td>TV Show</td>\n",
       "      <td>2021-09-24</td>\n",
       "      <td>2021</td>\n",
       "      <td>TV-MA</td>\n",
       "      <td>2 Seasons</td>\n",
       "    </tr>\n",
       "    <tr>\n",
       "      <th>4</th>\n",
       "      <td>Blood &amp; Water</td>\n",
       "      <td>Khosi Ngema</td>\n",
       "      <td>Unknown Director</td>\n",
       "      <td>International TV Shows</td>\n",
       "      <td>South Africa</td>\n",
       "      <td>s2</td>\n",
       "      <td>TV Show</td>\n",
       "      <td>2021-09-24</td>\n",
       "      <td>2021</td>\n",
       "      <td>TV-MA</td>\n",
       "      <td>2 Seasons</td>\n",
       "    </tr>\n",
       "    <tr>\n",
       "      <th>5</th>\n",
       "      <td>Blood &amp; Water</td>\n",
       "      <td>Khosi Ngema</td>\n",
       "      <td>Unknown Director</td>\n",
       "      <td>TV Dramas</td>\n",
       "      <td>South Africa</td>\n",
       "      <td>s2</td>\n",
       "      <td>TV Show</td>\n",
       "      <td>2021-09-24</td>\n",
       "      <td>2021</td>\n",
       "      <td>TV-MA</td>\n",
       "      <td>2 Seasons</td>\n",
       "    </tr>\n",
       "  </tbody>\n",
       "</table>\n",
       "</div>"
      ],
      "text/plain": [
       "                  title         Actors         Directors  \\\n",
       "0  Dick Johnson Is Dead  Unknown Actor   Kirsten Johnson   \n",
       "1         Blood & Water     Ama Qamata  Unknown Director   \n",
       "2         Blood & Water     Ama Qamata  Unknown Director   \n",
       "3         Blood & Water     Ama Qamata  Unknown Director   \n",
       "4         Blood & Water    Khosi Ngema  Unknown Director   \n",
       "5         Blood & Water    Khosi Ngema  Unknown Director   \n",
       "\n",
       "                    Genre        Country show_id     type date_added  \\\n",
       "0           Documentaries  United States      s1    Movie 2021-09-25   \n",
       "1  International TV Shows   South Africa      s2  TV Show 2021-09-24   \n",
       "2               TV Dramas   South Africa      s2  TV Show 2021-09-24   \n",
       "3            TV Mysteries   South Africa      s2  TV Show 2021-09-24   \n",
       "4  International TV Shows   South Africa      s2  TV Show 2021-09-24   \n",
       "5               TV Dramas   South Africa      s2  TV Show 2021-09-24   \n",
       "\n",
       "   release_year rating   duration  \n",
       "0          2020  PG-13         90  \n",
       "1          2021  TV-MA  2 Seasons  \n",
       "2          2021  TV-MA  2 Seasons  \n",
       "3          2021  TV-MA  2 Seasons  \n",
       "4          2021  TV-MA  2 Seasons  \n",
       "5          2021  TV-MA  2 Seasons  "
      ]
     },
     "execution_count": 21,
     "metadata": {},
     "output_type": "execute_result"
    }
   ],
   "source": [
    "netflix_df['duration'] = netflix_df['duration'].str.replace(\" min\",\"\")\n",
    "netflix_df.head(6)"
   ]
  },
  {
   "cell_type": "code",
   "execution_count": 22,
   "id": "5e7cb115",
   "metadata": {},
   "outputs": [],
   "source": [
    "netflix_df.drop(columns = ['show_id'], inplace = True)"
   ]
  },
  {
   "cell_type": "code",
   "execution_count": 23,
   "id": "7fed50f5",
   "metadata": {},
   "outputs": [],
   "source": [
    "netflix_df['duration2'] = netflix_df.duration.copy()\n",
    "netflix_df1 = netflix_df.copy()"
   ]
  },
  {
   "cell_type": "code",
   "execution_count": 24,
   "id": "50bd3844",
   "metadata": {
    "scrolled": false
   },
   "outputs": [
    {
     "data": {
      "text/html": [
       "<div>\n",
       "<style scoped>\n",
       "    .dataframe tbody tr th:only-of-type {\n",
       "        vertical-align: middle;\n",
       "    }\n",
       "\n",
       "    .dataframe tbody tr th {\n",
       "        vertical-align: top;\n",
       "    }\n",
       "\n",
       "    .dataframe thead th {\n",
       "        text-align: right;\n",
       "    }\n",
       "</style>\n",
       "<table border=\"1\" class=\"dataframe\">\n",
       "  <thead>\n",
       "    <tr style=\"text-align: right;\">\n",
       "      <th></th>\n",
       "      <th>title</th>\n",
       "      <th>Actors</th>\n",
       "      <th>Directors</th>\n",
       "      <th>Genre</th>\n",
       "      <th>Country</th>\n",
       "      <th>type</th>\n",
       "      <th>date_added</th>\n",
       "      <th>release_year</th>\n",
       "      <th>rating</th>\n",
       "      <th>duration</th>\n",
       "      <th>duration2</th>\n",
       "    </tr>\n",
       "  </thead>\n",
       "  <tbody>\n",
       "    <tr>\n",
       "      <th>0</th>\n",
       "      <td>Dick Johnson Is Dead</td>\n",
       "      <td>Unknown Actor</td>\n",
       "      <td>Kirsten Johnson</td>\n",
       "      <td>Documentaries</td>\n",
       "      <td>United States</td>\n",
       "      <td>Movie</td>\n",
       "      <td>2021-09-25</td>\n",
       "      <td>2020</td>\n",
       "      <td>PG-13</td>\n",
       "      <td>90</td>\n",
       "      <td>90</td>\n",
       "    </tr>\n",
       "    <tr>\n",
       "      <th>1</th>\n",
       "      <td>Blood &amp; Water</td>\n",
       "      <td>Ama Qamata</td>\n",
       "      <td>Unknown Director</td>\n",
       "      <td>International TV Shows</td>\n",
       "      <td>South Africa</td>\n",
       "      <td>TV Show</td>\n",
       "      <td>2021-09-24</td>\n",
       "      <td>2021</td>\n",
       "      <td>TV-MA</td>\n",
       "      <td>2 Seasons</td>\n",
       "      <td>0</td>\n",
       "    </tr>\n",
       "    <tr>\n",
       "      <th>2</th>\n",
       "      <td>Blood &amp; Water</td>\n",
       "      <td>Ama Qamata</td>\n",
       "      <td>Unknown Director</td>\n",
       "      <td>TV Dramas</td>\n",
       "      <td>South Africa</td>\n",
       "      <td>TV Show</td>\n",
       "      <td>2021-09-24</td>\n",
       "      <td>2021</td>\n",
       "      <td>TV-MA</td>\n",
       "      <td>2 Seasons</td>\n",
       "      <td>0</td>\n",
       "    </tr>\n",
       "    <tr>\n",
       "      <th>3</th>\n",
       "      <td>Blood &amp; Water</td>\n",
       "      <td>Ama Qamata</td>\n",
       "      <td>Unknown Director</td>\n",
       "      <td>TV Mysteries</td>\n",
       "      <td>South Africa</td>\n",
       "      <td>TV Show</td>\n",
       "      <td>2021-09-24</td>\n",
       "      <td>2021</td>\n",
       "      <td>TV-MA</td>\n",
       "      <td>2 Seasons</td>\n",
       "      <td>0</td>\n",
       "    </tr>\n",
       "    <tr>\n",
       "      <th>4</th>\n",
       "      <td>Blood &amp; Water</td>\n",
       "      <td>Khosi Ngema</td>\n",
       "      <td>Unknown Director</td>\n",
       "      <td>International TV Shows</td>\n",
       "      <td>South Africa</td>\n",
       "      <td>TV Show</td>\n",
       "      <td>2021-09-24</td>\n",
       "      <td>2021</td>\n",
       "      <td>TV-MA</td>\n",
       "      <td>2 Seasons</td>\n",
       "      <td>0</td>\n",
       "    </tr>\n",
       "  </tbody>\n",
       "</table>\n",
       "</div>"
      ],
      "text/plain": [
       "                  title         Actors         Directors  \\\n",
       "0  Dick Johnson Is Dead  Unknown Actor   Kirsten Johnson   \n",
       "1         Blood & Water     Ama Qamata  Unknown Director   \n",
       "2         Blood & Water     Ama Qamata  Unknown Director   \n",
       "3         Blood & Water     Ama Qamata  Unknown Director   \n",
       "4         Blood & Water    Khosi Ngema  Unknown Director   \n",
       "\n",
       "                    Genre        Country     type date_added  release_year  \\\n",
       "0           Documentaries  United States    Movie 2021-09-25          2020   \n",
       "1  International TV Shows   South Africa  TV Show 2021-09-24          2021   \n",
       "2               TV Dramas   South Africa  TV Show 2021-09-24          2021   \n",
       "3            TV Mysteries   South Africa  TV Show 2021-09-24          2021   \n",
       "4  International TV Shows   South Africa  TV Show 2021-09-24          2021   \n",
       "\n",
       "  rating   duration  duration2  \n",
       "0  PG-13         90         90  \n",
       "1  TV-MA  2 Seasons          0  \n",
       "2  TV-MA  2 Seasons          0  \n",
       "3  TV-MA  2 Seasons          0  \n",
       "4  TV-MA  2 Seasons          0  "
      ]
     },
     "execution_count": 24,
     "metadata": {},
     "output_type": "execute_result"
    }
   ],
   "source": [
    "netflix_df1.loc[netflix_df1['duration2'].str.contains('Season'),'duration2'] = 0\n",
    "netflix_df1['duration2'] = netflix_df1.duration2.astype('int')\n",
    "netflix_df1.head()"
   ]
  },
  {
   "cell_type": "code",
   "execution_count": 25,
   "id": "03b4674a",
   "metadata": {},
   "outputs": [
    {
     "data": {
      "text/plain": [
       "title           0\n",
       "Actors          0\n",
       "Directors       0\n",
       "Genre           0\n",
       "Country         0\n",
       "type            0\n",
       "date_added      0\n",
       "release_year    0\n",
       "rating          0\n",
       "duration        0\n",
       "duration2       0\n",
       "dtype: int64"
      ]
     },
     "execution_count": 25,
     "metadata": {},
     "output_type": "execute_result"
    }
   ],
   "source": [
    "netflix_df1.isnull().sum()"
   ]
  },
  {
   "cell_type": "markdown",
   "id": "d6c19ade",
   "metadata": {},
   "source": [
    "# Exploratory Data Analysis"
   ]
  },
  {
   "cell_type": "code",
   "execution_count": 26,
   "id": "204e0932",
   "metadata": {
    "scrolled": true
   },
   "outputs": [
    {
     "data": {
      "image/png": "[encoded data removed]",
      "text/plain": [
       "<Figure size 900x200 with 1 Axes>"
      ]
     },
     "metadata": {},
     "output_type": "display_data"
    }
   ],
   "source": [
    "#Histogram to see the distribution of duration\n",
    "plt.figure(figsize=(9,2))\n",
    "sns.distplot(netflix_df1['duration2'])\n",
    "\n",
    "plt.show()"
   ]
  },
  {
   "cell_type": "markdown",
   "id": "13656a87",
   "metadata": {},
   "source": [
    "**Values are around 100 which represents movies and 0 represents TV shows**"
   ]
  },
  {
   "cell_type": "code",
   "execution_count": 29,
   "id": "ddabfb0a",
   "metadata": {},
   "outputs": [],
   "source": [
    "netflix_df1.drop(['duration2'], axis = 1, inplace = True)"
   ]
  },
  {
   "cell_type": "code",
   "execution_count": 30,
   "id": "6cc49b24",
   "metadata": {},
   "outputs": [
    {
     "data": {
      "image/png": "[encoded data removed]",
      "text/plain": [
       "<Figure size 1600x900 with 1 Axes>"
      ]
     },
     "metadata": {},
     "output_type": "display_data"
    }
   ],
   "source": [
    "plt.figure(figsize=(16,9))\n",
    "genre_counts = netflix_df1['Genre'].value_counts()\n",
    "sns.barplot(x=genre_counts.values, y=genre_counts.index, data=netflix_df1)\n",
    "plt.xlabel('Count')\n",
    "plt.ylabel('Genre')\n",
    "plt.title('Distribution of Titles by Genre')\n",
    "plt.xticks(rotation=90)\n",
    "plt.show()"
   ]
  },
  {
   "cell_type": "code",
   "execution_count": 31,
   "id": "5034386f",
   "metadata": {},
   "outputs": [
    {
     "data": {
      "image/png": "[encoded data removed]",
      "text/plain": [
       "<Figure size 1000x600 with 1 Axes>"
      ]
     },
     "metadata": {},
     "output_type": "display_data"
    }
   ],
   "source": [
    "type_count = netflix_df1.groupby(['type']).agg({'title':'nunique'}).reset_index()\n",
    "\n",
    "plt.figure(figsize=(10, 6))\n",
    "\n",
    "light_colors = ['#FF9999', '#66B2FF']\n",
    "\n",
    "# Create the pie chart\n",
    "plt.pie(type_count['title'], labels=type_count['type'], colors=light_colors, autopct='%.0f%%', startangle=140)\n",
    "plt.title('Percentage of movies and TV shows')\n",
    "plt.axis('square') \n",
    "plt.show()"
   ]
  },
  {
   "cell_type": "code",
   "execution_count": 32,
   "id": "fa981860",
   "metadata": {
    "scrolled": false
   },
   "outputs": [
    {
     "data": {
      "image/png": "[encoded data removed]",
      "text/plain": [
       "<Figure size 1500x600 with 1 Axes>"
      ]
     },
     "metadata": {},
     "output_type": "display_data"
    }
   ],
   "source": [
    "#Creating a Bar chart to calculate the highest content creation countries for Netflix\n",
    "netflix_df1_country = netflix_df1.groupby(['Country']).agg({'title':'nunique'}).reset_index().sort_values(by=['title'],\n",
    "                                                                                                          ascending=False)[:10]\n",
    "plt.figure(figsize=(15,6))\n",
    "sns.barplot(y = \"Country\",x = 'title', data = netflix_df1_country)\n",
    "plt.xticks(rotation = 60)\n",
    "plt.title('Top 10 Countries for content creation')\n",
    "plt.show()"
   ]
  },
  {
   "cell_type": "markdown",
   "id": "d057cdd8",
   "metadata": {},
   "source": [
    "**From this Graph we can conclude that US, India are leading countries in Content Creation on Netflix**"
   ]
  },
  {
   "cell_type": "code",
   "execution_count": 33,
   "id": "78571e90",
   "metadata": {},
   "outputs": [
    {
     "data": {
      "image/png": "[encoded data removed]",
      "text/plain": [
       "<Figure size 1500x600 with 1 Axes>"
      ]
     },
     "metadata": {},
     "output_type": "display_data"
    }
   ],
   "source": [
    "#Creating a Bar chart to calculate the Rating Distribution Count in Netflix\n",
    "netflix_df1_rating = netflix_df1.groupby(['rating']).agg({'title':'nunique'}).reset_index().sort_values(by=['title'],\n",
    "                                                                                                        ascending=False)[:10]\n",
    "plt.figure(figsize=(15,6))\n",
    "sns.barplot(y = \"rating\",x = 'title', data = netflix_df1_rating)\n",
    "plt.xticks(rotation = 60)\n",
    "plt.title('Top 10 Rating Types')\n",
    "plt.show()"
   ]
  },
  {
   "cell_type": "code",
   "execution_count": 34,
   "id": "89226bb8",
   "metadata": {},
   "outputs": [
    {
     "data": {
      "text/plain": [
       "{'TV-MA': 'Mature Audiences Only',\n",
       " 'TV-14': 'Parents Strongly Cautioned',\n",
       " 'TV-PG': 'Parental Guidance Suggested'}"
      ]
     },
     "execution_count": 34,
     "metadata": {},
     "output_type": "execute_result"
    }
   ],
   "source": [
    "top_three_rating = {\"TV-MA\" : \"Mature Audiences Only\",\n",
    "                   \"TV-14\" : \"Parents Strongly Cautioned\",\n",
    "                   \"TV-PG\" : \"Parental Guidance Suggested\"}\n",
    "top_three_rating"
   ]
  },
  {
   "cell_type": "markdown",
   "id": "caaeaca6",
   "metadata": {},
   "source": [
    "**The majority of top-rated content on Netflix is designed for a mature audience.**"
   ]
  },
  {
   "cell_type": "code",
   "execution_count": 35,
   "id": "06773bba",
   "metadata": {},
   "outputs": [
    {
     "data": {
      "text/plain": [
       "<function matplotlib.pyplot.show(close=None, block=None)>"
      ]
     },
     "execution_count": 35,
     "metadata": {},
     "output_type": "execute_result"
    },
    {
     "data": {
      "image/png": "[encoded data removed]",
      "text/plain": [
       "<Figure size 1500x900 with 1 Axes>"
      ]
     },
     "metadata": {},
     "output_type": "display_data"
    }
   ],
   "source": [
    "#Creating Bar Chart to view top 3 directors who contribute to Netflix\n",
    "netflix_df1_directors = netflix_df1.groupby(['Directors']).agg({'title':'nunique'}).reset_index().sort_values(by=['title'],\n",
    "                                                                                                        ascending=False)[:15]\n",
    "netflix_df1_directors = netflix_df1_directors[netflix_df1_directors['Directors']!='Unknown Director']\n",
    "plt.figure(figsize=(15,9))\n",
    "sns.barplot(y = \"Directors\",x = 'title', data = netflix_df1_directors )\n",
    "plt.xticks(rotation = 60)\n",
    "plt.title('Top 15 most popular Directors')\n",
    "plt.show"
   ]
  },
  {
   "cell_type": "markdown",
   "id": "f60e246b",
   "metadata": {},
   "source": [
    "**Rajiv Chilaka, Jan Suter and Raul Campos are the most popular directors across Netflix**"
   ]
  },
  {
   "cell_type": "code",
   "execution_count": 36,
   "id": "f09ccdaf",
   "metadata": {},
   "outputs": [
    {
     "data": {
      "text/plain": [
       "<function matplotlib.pyplot.show(close=None, block=None)>"
      ]
     },
     "execution_count": 36,
     "metadata": {},
     "output_type": "execute_result"
    },
    {
     "data": {
      "image/png": "[encoded data removed]",
      "text/plain": [
       "<Figure size 1500x600 with 1 Axes>"
      ]
     },
     "metadata": {},
     "output_type": "display_data"
    }
   ],
   "source": [
    "#Visualizing the netflix content over the years\n",
    "netflix_df1_year = netflix_df1.groupby(['release_year']).agg({'title':'nunique'}).reset_index()\n",
    "\n",
    "plt.figure(figsize=(15,6))\n",
    "sns.lineplot(x = \"release_year\",y = 'title', data = netflix_df1_year, color = 'g', linewidth = 2.5)\n",
    "plt.xticks(rotation = 60)\n",
    "plt.title('movies/ TV shows across the years')\n",
    "plt.show"
   ]
  },
  {
   "cell_type": "markdown",
   "id": "818768e5",
   "metadata": {},
   "source": [
    "**The volume of content on Netflix exhibited a consistent rise from 2008 up until 2019, followed by a decline, possibly attributed to the impact of the Covid pandemic**\n"
   ]
  },
  {
   "cell_type": "code",
   "execution_count": 37,
   "id": "d006a4f8",
   "metadata": {},
   "outputs": [
    {
     "data": {
      "text/plain": [
       "Text(0.5, 1.0, 'Movies and TV Shows added to Netflix by date ')"
      ]
     },
     "execution_count": 37,
     "metadata": {},
     "output_type": "execute_result"
    },
    {
     "data": {
      "image/png": "[encoded data removed]",
      "text/plain": [
       "<Figure size 1500x500 with 1 Axes>"
      ]
     },
     "metadata": {},
     "output_type": "display_data"
    }
   ],
   "source": [
    "fig = plt.figure(figsize = (15,5))\n",
    "\n",
    "sns.countplot(data = netflix_df1,x = 'release_year',hue = 'type',palette =\"viridis\")\n",
    "plt.xticks(rotation=60)\n",
    "plt.title('Movies and TV Shows added to Netflix by date ', fontsize=14)"
   ]
  },
  {
   "cell_type": "markdown",
   "id": "d723eb1b",
   "metadata": {},
   "source": [
    "**Throughout the years, there has been a consistent upward trend in the addition of both TV shows and movies to the platform. However, following 2020, there was a noticeable decline, possibly attributable to Covid-related factors. Furthermore, it is evident that the accumulation of movies has surpassed that of TV shows over time**"
   ]
  },
  {
   "cell_type": "code",
   "execution_count": 38,
   "id": "482b5b9c",
   "metadata": {},
   "outputs": [
    {
     "data": {
      "image/png": "[encoded data removed]",
      "text/plain": [
       "<Figure size 1000x800 with 2 Axes>"
      ]
     },
     "metadata": {},
     "output_type": "display_data"
    }
   ],
   "source": [
    "netflix_df1['month_name'] = netflix_df1['date_added'].dt.strftime('%B')\n",
    "month_order = ['January', 'February', 'March', 'April', 'May', 'June', 'July', 'August', 'September',\n",
    "               'October', 'November', 'December']\n",
    "content = netflix_df1.groupby('release_year')['month_name'].value_counts().unstack().fillna(0)[month_order].T\n",
    "\n",
    "plt.figure(figsize=(10, 8))\n",
    "plt.title(\"Number of Months' Content Added per Year\")\n",
    "sns.heatmap(content, cmap='BuPu', fmt='g', linewidths=.5)\n",
    "plt.xlabel('Year Added')\n",
    "plt.ylabel('Month')\n",
    "plt.xticks(rotation=45)\n",
    "plt.show()"
   ]
  },
  {
   "cell_type": "markdown",
   "id": "1c8095ac",
   "metadata": {},
   "source": [
    "**The peak periods for content additions were November 2019 and July 2021, during which the highest numbers of movies and TV shows were introduced**"
   ]
  },
  {
   "cell_type": "code",
   "execution_count": 39,
   "id": "80f5972c",
   "metadata": {},
   "outputs": [],
   "source": [
    "netflix_df1.drop(['duration', 'date_added'], axis = 1, inplace = True)"
   ]
  },
  {
   "cell_type": "code",
   "execution_count": 40,
   "id": "c6001175",
   "metadata": {},
   "outputs": [
    {
     "data": {
      "text/html": [
       "<div>\n",
       "<style scoped>\n",
       "    .dataframe tbody tr th:only-of-type {\n",
       "        vertical-align: middle;\n",
       "    }\n",
       "\n",
       "    .dataframe tbody tr th {\n",
       "        vertical-align: top;\n",
       "    }\n",
       "\n",
       "    .dataframe thead th {\n",
       "        text-align: right;\n",
       "    }\n",
       "</style>\n",
       "<table border=\"1\" class=\"dataframe\">\n",
       "  <thead>\n",
       "    <tr style=\"text-align: right;\">\n",
       "      <th></th>\n",
       "      <th>title</th>\n",
       "      <th>Actors</th>\n",
       "      <th>Directors</th>\n",
       "      <th>Genre</th>\n",
       "      <th>Country</th>\n",
       "      <th>type</th>\n",
       "      <th>release_year</th>\n",
       "      <th>rating</th>\n",
       "      <th>month_name</th>\n",
       "    </tr>\n",
       "  </thead>\n",
       "  <tbody>\n",
       "    <tr>\n",
       "      <th>0</th>\n",
       "      <td>Dick Johnson Is Dead</td>\n",
       "      <td>Unknown Actor</td>\n",
       "      <td>Kirsten Johnson</td>\n",
       "      <td>Documentaries</td>\n",
       "      <td>United States</td>\n",
       "      <td>Movie</td>\n",
       "      <td>2020</td>\n",
       "      <td>PG-13</td>\n",
       "      <td>September</td>\n",
       "    </tr>\n",
       "    <tr>\n",
       "      <th>1</th>\n",
       "      <td>Blood &amp; Water</td>\n",
       "      <td>Ama Qamata</td>\n",
       "      <td>Unknown Director</td>\n",
       "      <td>International TV Shows</td>\n",
       "      <td>South Africa</td>\n",
       "      <td>TV Show</td>\n",
       "      <td>2021</td>\n",
       "      <td>TV-MA</td>\n",
       "      <td>September</td>\n",
       "    </tr>\n",
       "    <tr>\n",
       "      <th>2</th>\n",
       "      <td>Blood &amp; Water</td>\n",
       "      <td>Ama Qamata</td>\n",
       "      <td>Unknown Director</td>\n",
       "      <td>TV Dramas</td>\n",
       "      <td>South Africa</td>\n",
       "      <td>TV Show</td>\n",
       "      <td>2021</td>\n",
       "      <td>TV-MA</td>\n",
       "      <td>September</td>\n",
       "    </tr>\n",
       "    <tr>\n",
       "      <th>3</th>\n",
       "      <td>Blood &amp; Water</td>\n",
       "      <td>Ama Qamata</td>\n",
       "      <td>Unknown Director</td>\n",
       "      <td>TV Mysteries</td>\n",
       "      <td>South Africa</td>\n",
       "      <td>TV Show</td>\n",
       "      <td>2021</td>\n",
       "      <td>TV-MA</td>\n",
       "      <td>September</td>\n",
       "    </tr>\n",
       "    <tr>\n",
       "      <th>4</th>\n",
       "      <td>Blood &amp; Water</td>\n",
       "      <td>Khosi Ngema</td>\n",
       "      <td>Unknown Director</td>\n",
       "      <td>International TV Shows</td>\n",
       "      <td>South Africa</td>\n",
       "      <td>TV Show</td>\n",
       "      <td>2021</td>\n",
       "      <td>TV-MA</td>\n",
       "      <td>September</td>\n",
       "    </tr>\n",
       "  </tbody>\n",
       "</table>\n",
       "</div>"
      ],
      "text/plain": [
       "                  title         Actors         Directors  \\\n",
       "0  Dick Johnson Is Dead  Unknown Actor   Kirsten Johnson   \n",
       "1         Blood & Water     Ama Qamata  Unknown Director   \n",
       "2         Blood & Water     Ama Qamata  Unknown Director   \n",
       "3         Blood & Water     Ama Qamata  Unknown Director   \n",
       "4         Blood & Water    Khosi Ngema  Unknown Director   \n",
       "\n",
       "                    Genre        Country     type  release_year rating  \\\n",
       "0           Documentaries  United States    Movie          2020  PG-13   \n",
       "1  International TV Shows   South Africa  TV Show          2021  TV-MA   \n",
       "2               TV Dramas   South Africa  TV Show          2021  TV-MA   \n",
       "3            TV Mysteries   South Africa  TV Show          2021  TV-MA   \n",
       "4  International TV Shows   South Africa  TV Show          2021  TV-MA   \n",
       "\n",
       "  month_name  \n",
       "0  September  \n",
       "1  September  \n",
       "2  September  \n",
       "3  September  \n",
       "4  September  "
      ]
     },
     "execution_count": 40,
     "metadata": {},
     "output_type": "execute_result"
    }
   ],
   "source": [
    "netflix_df1.head()"
   ]
  },
  {
   "cell_type": "markdown",
   "id": "0a377c9a",
   "metadata": {},
   "source": [
    "# Label Encoding"
   ]
  },
  {
   "cell_type": "markdown",
   "id": "3610588a",
   "metadata": {},
   "source": [
    "Importing Dependencies"
   ]
  },
  {
   "cell_type": "code",
   "execution_count": 41,
   "id": "c460da8e",
   "metadata": {},
   "outputs": [],
   "source": [
    "from sklearn.preprocessing import LabelEncoder\n",
    "label_encoder = LabelEncoder()"
   ]
  },
  {
   "cell_type": "code",
   "execution_count": 42,
   "id": "e10a0817",
   "metadata": {},
   "outputs": [],
   "source": [
    "columns_to_use = ['title', 'Actors', 'Directors', 'Genre', 'Country', 'type', 'month_name']"
   ]
  },
  {
   "cell_type": "code",
   "execution_count": 43,
   "id": "2f4714a7",
   "metadata": {},
   "outputs": [],
   "source": [
    "for column in columns_to_use:\n",
    "    netflix_df1[column] = label_encoder.fit_transform(netflix_df1[column])"
   ]
  },
  {
   "cell_type": "code",
   "execution_count": 44,
   "id": "88db9915",
   "metadata": {
    "scrolled": false
   },
   "outputs": [
    {
     "data": {
      "text/html": [
       "<div>\n",
       "<style scoped>\n",
       "    .dataframe tbody tr th:only-of-type {\n",
       "        vertical-align: middle;\n",
       "    }\n",
       "\n",
       "    .dataframe tbody tr th {\n",
       "        vertical-align: top;\n",
       "    }\n",
       "\n",
       "    .dataframe thead th {\n",
       "        text-align: right;\n",
       "    }\n",
       "</style>\n",
       "<table border=\"1\" class=\"dataframe\">\n",
       "  <thead>\n",
       "    <tr style=\"text-align: right;\">\n",
       "      <th></th>\n",
       "      <th>title</th>\n",
       "      <th>Actors</th>\n",
       "      <th>Directors</th>\n",
       "      <th>Genre</th>\n",
       "      <th>Country</th>\n",
       "      <th>type</th>\n",
       "      <th>release_year</th>\n",
       "      <th>rating</th>\n",
       "      <th>month_name</th>\n",
       "    </tr>\n",
       "  </thead>\n",
       "  <tbody>\n",
       "    <tr>\n",
       "      <th>0</th>\n",
       "      <td>1972</td>\n",
       "      <td>34170</td>\n",
       "      <td>2531</td>\n",
       "      <td>10</td>\n",
       "      <td>119</td>\n",
       "      <td>0</td>\n",
       "      <td>2020</td>\n",
       "      <td>PG-13</td>\n",
       "      <td>11</td>\n",
       "    </tr>\n",
       "    <tr>\n",
       "      <th>1</th>\n",
       "      <td>1088</td>\n",
       "      <td>1599</td>\n",
       "      <td>4742</td>\n",
       "      <td>17</td>\n",
       "      <td>102</td>\n",
       "      <td>1</td>\n",
       "      <td>2021</td>\n",
       "      <td>TV-MA</td>\n",
       "      <td>11</td>\n",
       "    </tr>\n",
       "    <tr>\n",
       "      <th>2</th>\n",
       "      <td>1088</td>\n",
       "      <td>1599</td>\n",
       "      <td>4742</td>\n",
       "      <td>34</td>\n",
       "      <td>102</td>\n",
       "      <td>1</td>\n",
       "      <td>2021</td>\n",
       "      <td>TV-MA</td>\n",
       "      <td>11</td>\n",
       "    </tr>\n",
       "    <tr>\n",
       "      <th>3</th>\n",
       "      <td>1088</td>\n",
       "      <td>1599</td>\n",
       "      <td>4742</td>\n",
       "      <td>36</td>\n",
       "      <td>102</td>\n",
       "      <td>1</td>\n",
       "      <td>2021</td>\n",
       "      <td>TV-MA</td>\n",
       "      <td>11</td>\n",
       "    </tr>\n",
       "    <tr>\n",
       "      <th>4</th>\n",
       "      <td>1088</td>\n",
       "      <td>18087</td>\n",
       "      <td>4742</td>\n",
       "      <td>17</td>\n",
       "      <td>102</td>\n",
       "      <td>1</td>\n",
       "      <td>2021</td>\n",
       "      <td>TV-MA</td>\n",
       "      <td>11</td>\n",
       "    </tr>\n",
       "  </tbody>\n",
       "</table>\n",
       "</div>"
      ],
      "text/plain": [
       "   title  Actors  Directors  Genre  Country  type  release_year rating  \\\n",
       "0   1972   34170       2531     10      119     0          2020  PG-13   \n",
       "1   1088    1599       4742     17      102     1          2021  TV-MA   \n",
       "2   1088    1599       4742     34      102     1          2021  TV-MA   \n",
       "3   1088    1599       4742     36      102     1          2021  TV-MA   \n",
       "4   1088   18087       4742     17      102     1          2021  TV-MA   \n",
       "\n",
       "   month_name  \n",
       "0          11  \n",
       "1          11  \n",
       "2          11  \n",
       "3          11  \n",
       "4          11  "
      ]
     },
     "execution_count": 44,
     "metadata": {},
     "output_type": "execute_result"
    }
   ],
   "source": [
    "netflix_df1.head()"
   ]
  },
  {
   "cell_type": "markdown",
   "id": "cb21f525",
   "metadata": {},
   "source": [
    "**Dataframe contain more than 2lacs records, hence taking 10,000 records each for machine learning**"
   ]
  },
  {
   "cell_type": "code",
   "execution_count": 45,
   "id": "9e21933d",
   "metadata": {},
   "outputs": [],
   "source": [
    "min_records = netflix_df1.loc[:10000,]"
   ]
  },
  {
   "cell_type": "code",
   "execution_count": 46,
   "id": "4c9f0382",
   "metadata": {},
   "outputs": [],
   "source": [
    "X = min_records.drop([\"rating\"], axis=1)\n",
    "y = min_records[\"rating\"]"
   ]
  },
  {
   "cell_type": "markdown",
   "id": "601b1ca0",
   "metadata": {},
   "source": [
    "# Model Selection"
   ]
  },
  {
   "cell_type": "code",
   "execution_count": 47,
   "id": "5acdba6b",
   "metadata": {},
   "outputs": [],
   "source": [
    "from sklearn.model_selection import train_test_split\n",
    "\n",
    "X_train, X_test, y_train, y_test = train_test_split(X, y, test_size=0.2, random_state=42)"
   ]
  },
  {
   "cell_type": "markdown",
   "id": "d4f9304c",
   "metadata": {},
   "source": [
    "# Random Forest Classifier"
   ]
  },
  {
   "cell_type": "code",
   "execution_count": 48,
   "id": "8d61c92d",
   "metadata": {},
   "outputs": [
    {
     "name": "stdout",
     "output_type": "stream",
     "text": [
      "Accuracy: 0.9975012493753124\n",
      "              precision    recall  f1-score   support\n",
      "\n",
      "           G       1.00      1.00      1.00         2\n",
      "          PG       1.00      1.00      1.00       179\n",
      "       PG-13       1.00      1.00      1.00       233\n",
      "           R       1.00      1.00      1.00       347\n",
      "       TV-14       1.00      0.99      1.00       379\n",
      "        TV-G       1.00      1.00      1.00         6\n",
      "       TV-MA       1.00      1.00      1.00       642\n",
      "       TV-PG       0.99      1.00      1.00       148\n",
      "        TV-Y       0.96      1.00      0.98        23\n",
      "       TV-Y7       1.00      1.00      1.00        42\n",
      "\n",
      "    accuracy                           1.00      2001\n",
      "   macro avg       0.99      1.00      1.00      2001\n",
      "weighted avg       1.00      1.00      1.00      2001\n",
      "\n"
     ]
    }
   ],
   "source": [
    "from sklearn.ensemble import RandomForestClassifier\n",
    "from sklearn.metrics import accuracy_score\n",
    "from sklearn.metrics import classification_report, confusion_matrix\n",
    "\n",
    "model = RandomForestClassifier()\n",
    "model.fit(X_train, y_train)\n",
    "y_pred = model.predict(X_test)\n",
    "accuracy = accuracy_score(y_test, y_pred)\n",
    "print(\"Accuracy:\", accuracy)\n",
    "print(classification_report(y_test, y_pred))"
   ]
  },
  {
   "cell_type": "markdown",
   "id": "21336a25",
   "metadata": {},
   "source": [
    "**Taking random 20,000 records for prediction**"
   ]
  },
  {
   "cell_type": "code",
   "execution_count": 49,
   "id": "c51a3422",
   "metadata": {},
   "outputs": [
    {
     "name": "stdout",
     "output_type": "stream",
     "text": [
      "Accuracy: 0.9960009997500625\n",
      "              precision    recall  f1-score   support\n",
      "\n",
      "          PG       1.00      1.00      1.00       228\n",
      "       PG-13       0.99      1.00      1.00       190\n",
      "           R       1.00      1.00      1.00       297\n",
      "       TV-14       1.00      0.99      0.99       889\n",
      "        TV-G       1.00      0.99      1.00       126\n",
      "       TV-MA       0.99      1.00      1.00      1754\n",
      "       TV-PG       1.00      0.98      0.99       285\n",
      "        TV-Y       1.00      0.97      0.99        79\n",
      "       TV-Y7       0.99      1.00      1.00       153\n",
      "\n",
      "    accuracy                           1.00      4001\n",
      "   macro avg       1.00      0.99      1.00      4001\n",
      "weighted avg       1.00      1.00      1.00      4001\n",
      "\n"
     ]
    }
   ],
   "source": [
    "min_records2 = netflix_df1.loc[40000:60000,]\n",
    "X = min_records2.drop([\"rating\"], axis=1)\n",
    "y = min_records2[\"rating\"]\n",
    "X_train, X_test, y_train, y_test = train_test_split(X, y, test_size=0.2, random_state=42)\n",
    "model = RandomForestClassifier()\n",
    "model.fit(X_train, y_train)\n",
    "y_pred = model.predict(X_test)\n",
    "accuracy = accuracy_score(y_test, y_pred)\n",
    "print(\"Accuracy:\", accuracy)\n",
    "print(classification_report(y_test, y_pred))"
   ]
  },
  {
   "cell_type": "markdown",
   "id": "afd339d6",
   "metadata": {},
   "source": [
    "# Balancing the Data"
   ]
  },
  {
   "cell_type": "code",
   "execution_count": 50,
   "id": "cb76aa40",
   "metadata": {},
   "outputs": [],
   "source": [
    "from imblearn.over_sampling import RandomOverSampler\n",
    "from collections import Counter"
   ]
  },
  {
   "cell_type": "code",
   "execution_count": 51,
   "id": "f76b1515",
   "metadata": {
    "scrolled": true
   },
   "outputs": [
    {
     "name": "stdout",
     "output_type": "stream",
     "text": [
      "Class distribution before oversampling: Counter({'TV-MA': 8836, 'TV-14': 4463, 'R': 1465, 'TV-PG': 1349, 'PG': 1073, 'PG-13': 886, 'TV-Y7': 813, 'TV-G': 648, 'TV-Y': 468})\n"
     ]
    }
   ],
   "source": [
    "print(\"Class distribution before oversampling:\", Counter(y))"
   ]
  },
  {
   "cell_type": "code",
   "execution_count": 72,
   "id": "e5c96122",
   "metadata": {},
   "outputs": [],
   "source": [
    "class_distribution_before = Counter(y)"
   ]
  },
  {
   "cell_type": "code",
   "execution_count": 73,
   "id": "ef15842d",
   "metadata": {},
   "outputs": [
    {
     "data": {
      "image/png": "[encoded data removed]",
      "text/plain": [
       "<Figure size 640x480 with 1 Axes>"
      ]
     },
     "metadata": {},
     "output_type": "display_data"
    }
   ],
   "source": [
    "labels = class_distribution_before.keys()\n",
    "counts = class_distribution_before.values()\n",
    "\n",
    "# Create a bar graph\n",
    "plt.bar(labels, counts, color = 'g')\n",
    "\n",
    "plt.xlabel(\"Rating\")\n",
    "plt.ylabel(\"Count\")\n",
    "plt.title(\"Class Distribution Before Oversampling\")\n",
    "\n",
    "plt.xticks(rotation=45)\n",
    "plt.show()"
   ]
  },
  {
   "cell_type": "code",
   "execution_count": 52,
   "id": "fca88203",
   "metadata": {},
   "outputs": [],
   "source": [
    "oversampler = RandomOverSampler(random_state=42)"
   ]
  },
  {
   "cell_type": "code",
   "execution_count": 53,
   "id": "0d1e8d92",
   "metadata": {},
   "outputs": [],
   "source": [
    "X_resampled, y_resampled = oversampler.fit_resample(X, y)"
   ]
  },
  {
   "cell_type": "code",
   "execution_count": 54,
   "id": "bb9b3240",
   "metadata": {
    "scrolled": true
   },
   "outputs": [
    {
     "name": "stdout",
     "output_type": "stream",
     "text": [
      "Class distribution after oversampling: Counter({'TV-14': 8836, 'TV-PG': 8836, 'R': 8836, 'TV-Y': 8836, 'TV-G': 8836, 'PG': 8836, 'TV-MA': 8836, 'TV-Y7': 8836, 'PG-13': 8836})\n"
     ]
    }
   ],
   "source": [
    "print(\"Class distribution after oversampling:\", Counter(y_resampled))"
   ]
  },
  {
   "cell_type": "code",
   "execution_count": 55,
   "id": "ae19337c",
   "metadata": {},
   "outputs": [],
   "source": [
    "class_distribution = Counter(y_resampled)"
   ]
  },
  {
   "cell_type": "code",
   "execution_count": 56,
   "id": "bcfefbea",
   "metadata": {},
   "outputs": [
    {
     "data": {
      "image/png": "[encoded data removed]",
      "text/plain": [
       "<Figure size 640x480 with 1 Axes>"
      ]
     },
     "metadata": {},
     "output_type": "display_data"
    }
   ],
   "source": [
    "labels = class_distribution.keys()\n",
    "counts = class_distribution.values()\n",
    "\n",
    "# Create a bar graph\n",
    "plt.bar(labels, counts, color = 'g')\n",
    "\n",
    "plt.xlabel(\"Rating\")\n",
    "plt.ylabel(\"Count\")\n",
    "plt.title(\"Class Distribution After Oversampling\")\n",
    "\n",
    "plt.xticks(rotation=45)\n",
    "plt.show()"
   ]
  },
  {
   "cell_type": "code",
   "execution_count": 57,
   "id": "cf75fc32",
   "metadata": {},
   "outputs": [],
   "source": [
    "X_train, X_test, y_train, y_test = train_test_split(X_resampled, y_resampled, test_size=0.2, random_state=42)"
   ]
  },
  {
   "cell_type": "markdown",
   "id": "0039ba89",
   "metadata": {},
   "source": [
    "# Random Forest Classifier"
   ]
  },
  {
   "cell_type": "code",
   "execution_count": 58,
   "id": "46c93d72",
   "metadata": {
    "scrolled": false
   },
   "outputs": [
    {
     "name": "stdout",
     "output_type": "stream",
     "text": [
      "\n",
      "Random Forest Classifier Metrics:\n",
      "Accuracy: 0.9997485067588808\n",
      "Classification Report:\n",
      "               precision    recall  f1-score   support\n",
      "\n",
      "          PG       1.00      1.00      1.00      1779\n",
      "       PG-13       1.00      1.00      1.00      1816\n",
      "           R       1.00      1.00      1.00      1739\n",
      "       TV-14       1.00      1.00      1.00      1704\n",
      "        TV-G       1.00      1.00      1.00      1833\n",
      "       TV-MA       1.00      1.00      1.00      1747\n",
      "       TV-PG       1.00      1.00      1.00      1771\n",
      "        TV-Y       1.00      1.00      1.00      1756\n",
      "       TV-Y7       1.00      1.00      1.00      1760\n",
      "\n",
      "    accuracy                           1.00     15905\n",
      "   macro avg       1.00      1.00      1.00     15905\n",
      "weighted avg       1.00      1.00      1.00     15905\n",
      "\n",
      "Confusion Matrix:\n",
      " [[1779    0    0    0    0    0    0    0    0]\n",
      " [   0 1816    0    0    0    0    0    0    0]\n",
      " [   0    0 1739    0    0    0    0    0    0]\n",
      " [   0    0    0 1702    0    2    0    0    0]\n",
      " [   0    0    0    0 1833    0    0    0    0]\n",
      " [   0    0    0    1    0 1745    1    0    0]\n",
      " [   0    0    0    0    0    0 1771    0    0]\n",
      " [   0    0    0    0    0    0    0 1756    0]\n",
      " [   0    0    0    0    0    0    0    0 1760]]\n"
     ]
    }
   ],
   "source": [
    "rf_classifier = RandomForestClassifier()\n",
    "rf_classifier.fit(X_train, y_train)\n",
    "y_pred_rf = rf_classifier.predict(X_test)\n",
    "\n",
    "# Calculate metrics for Random Forest Classifier\n",
    "accuracy = accuracy_score(y_test, y_pred_rf)\n",
    "class_report = classification_report(y_test, y_pred_rf)\n",
    "conf_matrix = confusion_matrix(y_test, y_pred_rf)\n",
    "\n",
    "print(\"\\nRandom Forest Classifier Metrics:\")\n",
    "print(\"Accuracy:\", accuracy)\n",
    "print(\"Classification Report:\\n\", class_report)\n",
    "print(\"Confusion Matrix:\\n\", conf_matrix)"
   ]
  },
  {
   "cell_type": "code",
   "execution_count": 59,
   "id": "25cf45d5",
   "metadata": {},
   "outputs": [
    {
     "name": "stdout",
     "output_type": "stream",
     "text": [
      "      Predicted Rating Original Rating\n",
      "0                   PG              PG\n",
      "1                TV-PG           TV-PG\n",
      "2                PG-13           PG-13\n",
      "3                PG-13           PG-13\n",
      "4                PG-13           PG-13\n",
      "...                ...             ...\n",
      "15900            TV-Y7           TV-Y7\n",
      "15901            TV-MA           TV-MA\n",
      "15902            TV-14           TV-14\n",
      "15903            TV-MA           TV-MA\n",
      "15904                R               R\n",
      "\n",
      "[15905 rows x 2 columns]\n"
     ]
    }
   ],
   "source": [
    "np.transpose(y_pred_rf)\n",
    "rf_df=pd.DataFrame(y_pred_rf)\n",
    "result = y_test.to_frame()\n",
    "result = result.reset_index(drop=True)\n",
    "result_rf = result.sort_index()\n",
    "y_both = pd.concat([rf_df, result_rf], axis=1)\n",
    "y_both.columns = ['Predicted Rating', 'Original Rating']\n",
    "print(y_both)"
   ]
  },
  {
   "cell_type": "markdown",
   "id": "a974e5ad",
   "metadata": {},
   "source": [
    "# Logistic Regression"
   ]
  },
  {
   "cell_type": "code",
   "execution_count": 60,
   "id": "cbc0c1dc",
   "metadata": {
    "scrolled": false
   },
   "outputs": [
    {
     "name": "stdout",
     "output_type": "stream",
     "text": [
      "\n",
      "Logistic Regression Metrics:\n",
      "Accuracy: 0.1840930524992141\n",
      "Confusion Matrix:\n",
      " [[ 699   66  486   59    6   92  180   43  148]\n",
      " [ 203   75  298   15   19  219  462   68  457]\n",
      " [ 673   35  448   33   18  120  276   51   85]\n",
      " [ 227   35  264   53   10   33  314  173  595]\n",
      " [ 339   67  223   91    9   48  310  131  615]\n",
      " [ 263   26  223   32   13   24  172   80  914]\n",
      " [ 222   92  162  114   65   28  409  191  488]\n",
      " [ 177   11  109    0    0   50  337   67 1005]\n",
      " [ 166    1   62    0    8  136   89  154 1144]]\n",
      "Classification Report:\n",
      "               precision    recall  f1-score   support\n",
      "\n",
      "          PG       0.24      0.39      0.29      1779\n",
      "       PG-13       0.18      0.04      0.07      1816\n",
      "           R       0.20      0.26      0.22      1739\n",
      "       TV-14       0.13      0.03      0.05      1704\n",
      "        TV-G       0.06      0.00      0.01      1833\n",
      "       TV-MA       0.03      0.01      0.02      1747\n",
      "       TV-PG       0.16      0.23      0.19      1771\n",
      "        TV-Y       0.07      0.04      0.05      1756\n",
      "       TV-Y7       0.21      0.65      0.32      1760\n",
      "\n",
      "    accuracy                           0.18     15905\n",
      "   macro avg       0.14      0.18      0.14     15905\n",
      "weighted avg       0.14      0.18      0.14     15905\n",
      "\n"
     ]
    }
   ],
   "source": [
    "from sklearn.linear_model import LogisticRegression\n",
    "\n",
    "logreg_model = LogisticRegression()\n",
    "logreg_model.fit(X_train, y_train)\n",
    "y_pred_logreg = logreg_model.predict(X_test)\n",
    "\n",
    "accuracy = accuracy_score(y_test, y_pred_logreg)\n",
    "conf_matrix = confusion_matrix(y_test, y_pred_logreg)\n",
    "class_report = classification_report(y_test, y_pred_logreg)\n",
    "\n",
    "print(\"\\nLogistic Regression Metrics:\")\n",
    "print(\"Accuracy:\", accuracy)\n",
    "print(\"Confusion Matrix:\\n\", conf_matrix)\n",
    "print(\"Classification Report:\\n\", class_report)"
   ]
  },
  {
   "cell_type": "code",
   "execution_count": 61,
   "id": "328f5a89",
   "metadata": {},
   "outputs": [
    {
     "name": "stdout",
     "output_type": "stream",
     "text": [
      "      Predicted Rating Original Rating\n",
      "0                TV-Y7              PG\n",
      "1                TV-PG           TV-PG\n",
      "2                TV-Y7           PG-13\n",
      "3                TV-Y7           PG-13\n",
      "4                    R           PG-13\n",
      "...                ...             ...\n",
      "15900             TV-Y           TV-Y7\n",
      "15901            TV-Y7           TV-MA\n",
      "15902             TV-Y           TV-14\n",
      "15903            TV-Y7           TV-MA\n",
      "15904               PG               R\n",
      "\n",
      "[15905 rows x 2 columns]\n"
     ]
    }
   ],
   "source": [
    "np.transpose(y_pred_logreg)\n",
    "logreg_df=pd.DataFrame(y_pred_logreg)\n",
    "result = y_test.to_frame()\n",
    "result = result.reset_index(drop=True)\n",
    "result_logreg = result.sort_index()\n",
    "y_both = pd.concat([logreg_df, result_logreg], axis=1)\n",
    "y_both.columns = ['Predicted Rating', 'Original Rating']\n",
    "print(y_both)"
   ]
  },
  {
   "cell_type": "markdown",
   "id": "36902281",
   "metadata": {},
   "source": [
    "# DecisionTree Classifier"
   ]
  },
  {
   "cell_type": "code",
   "execution_count": 62,
   "id": "41539d8b",
   "metadata": {
    "scrolled": false
   },
   "outputs": [
    {
     "name": "stdout",
     "output_type": "stream",
     "text": [
      "\n",
      "Decision Tree Classifier Metrics:\n",
      "Accuracy: 0.9986796604841245\n",
      "Confusion Matrix:\n",
      " [[1779    0    0    0    0    0    0    0    0]\n",
      " [   0 1816    0    0    0    0    0    0    0]\n",
      " [   0    0 1739    0    0    0    0    0    0]\n",
      " [   2    0    0 1693    0    7    1    1    0]\n",
      " [   0    0    0    0 1833    0    0    0    0]\n",
      " [   0    1    0    4    0 1737    2    3    0]\n",
      " [   0    0    0    0    0    0 1771    0    0]\n",
      " [   0    0    0    0    0    0    0 1756    0]\n",
      " [   0    0    0    0    0    0    0    0 1760]]\n",
      "Classification Report:\n",
      "               precision    recall  f1-score   support\n",
      "\n",
      "          PG       1.00      1.00      1.00      1779\n",
      "       PG-13       1.00      1.00      1.00      1816\n",
      "           R       1.00      1.00      1.00      1739\n",
      "       TV-14       1.00      0.99      1.00      1704\n",
      "        TV-G       1.00      1.00      1.00      1833\n",
      "       TV-MA       1.00      0.99      1.00      1747\n",
      "       TV-PG       1.00      1.00      1.00      1771\n",
      "        TV-Y       1.00      1.00      1.00      1756\n",
      "       TV-Y7       1.00      1.00      1.00      1760\n",
      "\n",
      "    accuracy                           1.00     15905\n",
      "   macro avg       1.00      1.00      1.00     15905\n",
      "weighted avg       1.00      1.00      1.00     15905\n",
      "\n"
     ]
    }
   ],
   "source": [
    "from sklearn.tree import DecisionTreeClassifier\n",
    "\n",
    "dt_classifier = DecisionTreeClassifier()\n",
    "dt_classifier.fit(X_train, y_train)\n",
    "y_pred_dt = dt_classifier.predict(X_test)\n",
    "\n",
    "accuracy = accuracy_score(y_test, y_pred_dt)\n",
    "conf_matrix = confusion_matrix(y_test, y_pred_dt)\n",
    "class_report = classification_report(y_test, y_pred_dt)\n",
    "\n",
    "print(\"\\nDecision Tree Classifier Metrics:\")\n",
    "print(\"Accuracy:\", accuracy)\n",
    "print(\"Confusion Matrix:\\n\", conf_matrix)\n",
    "print(\"Classification Report:\\n\", class_report)"
   ]
  },
  {
   "cell_type": "code",
   "execution_count": 63,
   "id": "8f4e0142",
   "metadata": {},
   "outputs": [
    {
     "name": "stdout",
     "output_type": "stream",
     "text": [
      "      Predicted Rating Original Rating\n",
      "0                   PG              PG\n",
      "1                TV-PG           TV-PG\n",
      "2                PG-13           PG-13\n",
      "3                PG-13           PG-13\n",
      "4                PG-13           PG-13\n",
      "...                ...             ...\n",
      "15900            TV-Y7           TV-Y7\n",
      "15901            TV-MA           TV-MA\n",
      "15902            TV-14           TV-14\n",
      "15903            TV-MA           TV-MA\n",
      "15904                R               R\n",
      "\n",
      "[15905 rows x 2 columns]\n"
     ]
    }
   ],
   "source": [
    "np.transpose(y_pred_dt)\n",
    "dt_df=pd.DataFrame(y_pred_dt)\n",
    "result = y_test.to_frame()\n",
    "result = result.reset_index(drop=True)\n",
    "result_dt = result.sort_index()\n",
    "y_both = pd.concat([dt_df, result_dt], axis=1)\n",
    "y_both.columns = ['Predicted Rating', 'Original Rating']\n",
    "print(y_both)"
   ]
  },
  {
   "cell_type": "markdown",
   "id": "cffe9455",
   "metadata": {},
   "source": [
    "# K-Neighbors Classifier"
   ]
  },
  {
   "cell_type": "code",
   "execution_count": 64,
   "id": "6bdf24d9",
   "metadata": {
    "scrolled": false
   },
   "outputs": [
    {
     "name": "stdout",
     "output_type": "stream",
     "text": [
      "\n",
      "K-Nearest Neighbors (KNN) Classifier Metrics:\n",
      "Accuracy: 0.9534737503929582\n",
      "Confusion Matrix:\n",
      " [[1779    0    0    0    0    0    0    0    0]\n",
      " [   0 1816    0    0    0    0    0    0    0]\n",
      " [   0    2 1728    0    0    5    3    0    1]\n",
      " [  18   10   18 1545    7   57   29   11    9]\n",
      " [   0    0    0    0 1833    0    0    0    0]\n",
      " [  32   25   65  235   35 1185   80   28   62]\n",
      " [   0    0    0    5    0    0 1766    0    0]\n",
      " [   0    0    0    0    0    0    0 1756    0]\n",
      " [   0    2    0    0    0    0    0    1 1757]]\n",
      "Classification Report:\n",
      "               precision    recall  f1-score   support\n",
      "\n",
      "          PG       0.97      1.00      0.99      1779\n",
      "       PG-13       0.98      1.00      0.99      1816\n",
      "           R       0.95      0.99      0.97      1739\n",
      "       TV-14       0.87      0.91      0.89      1704\n",
      "        TV-G       0.98      1.00      0.99      1833\n",
      "       TV-MA       0.95      0.68      0.79      1747\n",
      "       TV-PG       0.94      1.00      0.97      1771\n",
      "        TV-Y       0.98      1.00      0.99      1756\n",
      "       TV-Y7       0.96      1.00      0.98      1760\n",
      "\n",
      "    accuracy                           0.95     15905\n",
      "   macro avg       0.95      0.95      0.95     15905\n",
      "weighted avg       0.95      0.95      0.95     15905\n",
      "\n"
     ]
    }
   ],
   "source": [
    "from sklearn.neighbors import KNeighborsClassifier\n",
    "\n",
    "knn_classifier = KNeighborsClassifier()\n",
    "knn_classifier.fit(X_train, y_train)\n",
    "y_pred_knn = knn_classifier.predict(X_test)\n",
    "\n",
    "accuracy = accuracy_score(y_test, y_pred_knn)\n",
    "conf_matrix = confusion_matrix(y_test, y_pred_knn)\n",
    "class_report = classification_report(y_test, y_pred_knn)\n",
    "\n",
    "print(\"\\nK-Nearest Neighbors (KNN) Classifier Metrics:\")\n",
    "print(\"Accuracy:\", accuracy)\n",
    "print(\"Confusion Matrix:\\n\", conf_matrix)\n",
    "print(\"Classification Report:\\n\", class_report)"
   ]
  },
  {
   "cell_type": "code",
   "execution_count": 65,
   "id": "84f708e9",
   "metadata": {},
   "outputs": [
    {
     "name": "stdout",
     "output_type": "stream",
     "text": [
      "      Predicted Rating Original Rating\n",
      "0                   PG              PG\n",
      "1                TV-PG           TV-PG\n",
      "2                PG-13           PG-13\n",
      "3                PG-13           PG-13\n",
      "4                PG-13           PG-13\n",
      "...                ...             ...\n",
      "15900            TV-Y7           TV-Y7\n",
      "15901            TV-MA           TV-MA\n",
      "15902            TV-14           TV-14\n",
      "15903            TV-MA           TV-MA\n",
      "15904                R               R\n",
      "\n",
      "[15905 rows x 2 columns]\n"
     ]
    }
   ],
   "source": [
    "np.transpose(y_pred_knn)\n",
    "knn_df=pd.DataFrame(y_pred_knn)\n",
    "result = y_test.to_frame()\n",
    "result = result.reset_index(drop=True)\n",
    "result_knn = result.sort_index()\n",
    "y_both = pd.concat([knn_df, result_knn], axis=1)\n",
    "y_both.columns = ['Predicted Rating', 'Original Rating']\n",
    "print(y_both)"
   ]
  },
  {
   "cell_type": "markdown",
   "id": "c2830d63",
   "metadata": {},
   "source": [
    "# AdaBoost Classifier"
   ]
  },
  {
   "cell_type": "code",
   "execution_count": 66,
   "id": "462019d5",
   "metadata": {
    "scrolled": false
   },
   "outputs": [
    {
     "name": "stdout",
     "output_type": "stream",
     "text": [
      "\n",
      "AdaBoost Classifier Metrics:\n",
      "Accuracy: 0.28506758880855076\n",
      "Confusion Matrix:\n",
      " [[967 169  70 199  70  76 187  41   0]\n",
      " [826 545 138  39  92  34 129  13   0]\n",
      " [281 311 629 217  75   0 226   0   0]\n",
      " [493  68  89 354   8 239 179 197  77]\n",
      " [ 94 171 219  46 212 461 220 379  31]\n",
      " [220  21  95 304   8 247 164 551 137]\n",
      " [367  41  27 478  96 407 166  96  93]\n",
      " [ 92   0   0  41  24 382  77 903 237]\n",
      " [  0   0   0   7   0 381   0 861 511]]\n",
      "Classification Report:\n",
      "               precision    recall  f1-score   support\n",
      "\n",
      "          PG       0.29      0.54      0.38      1779\n",
      "       PG-13       0.41      0.30      0.35      1816\n",
      "           R       0.50      0.36      0.42      1739\n",
      "       TV-14       0.21      0.21      0.21      1704\n",
      "        TV-G       0.36      0.12      0.18      1833\n",
      "       TV-MA       0.11      0.14      0.12      1747\n",
      "       TV-PG       0.12      0.09      0.11      1771\n",
      "        TV-Y       0.30      0.51      0.38      1756\n",
      "       TV-Y7       0.47      0.29      0.36      1760\n",
      "\n",
      "    accuracy                           0.29     15905\n",
      "   macro avg       0.31      0.29      0.28     15905\n",
      "weighted avg       0.31      0.29      0.28     15905\n",
      "\n"
     ]
    }
   ],
   "source": [
    "from sklearn.ensemble import AdaBoostClassifier\n",
    "\n",
    "adaboost_classifier = AdaBoostClassifier()\n",
    "adaboost_classifier.fit(X_train, y_train)\n",
    "y_pred_adaboost = adaboost_classifier.predict(X_test)\n",
    "\n",
    "accuracy = accuracy_score(y_test, y_pred_adaboost)\n",
    "conf_matrix = confusion_matrix(y_test, y_pred_adaboost)\n",
    "class_report = classification_report(y_test, y_pred_adaboost)\n",
    "\n",
    "print(\"\\nAdaBoost Classifier Metrics:\")\n",
    "print(\"Accuracy:\", accuracy)\n",
    "print(\"Confusion Matrix:\\n\", conf_matrix)\n",
    "print(\"Classification Report:\\n\", class_report)"
   ]
  },
  {
   "cell_type": "code",
   "execution_count": 67,
   "id": "b5728b91",
   "metadata": {},
   "outputs": [
    {
     "name": "stdout",
     "output_type": "stream",
     "text": [
      "      Predicted Rating Original Rating\n",
      "0                TV-PG              PG\n",
      "1                TV-MA           TV-PG\n",
      "2                   PG           PG-13\n",
      "3                PG-13           PG-13\n",
      "4                    R           PG-13\n",
      "...                ...             ...\n",
      "15900            TV-Y7           TV-Y7\n",
      "15901             TV-Y           TV-MA\n",
      "15902            TV-PG           TV-14\n",
      "15903            TV-Y7           TV-MA\n",
      "15904             TV-G               R\n",
      "\n",
      "[15905 rows x 2 columns]\n"
     ]
    }
   ],
   "source": [
    "np.transpose(y_pred_adaboost)\n",
    "adaboost_df=pd.DataFrame(y_pred_adaboost)\n",
    "result = y_test.to_frame()\n",
    "result = result.reset_index(drop=True)\n",
    "result_adaboost = result.sort_index()\n",
    "y_both = pd.concat([adaboost_df, result_adaboost], axis=1)\n",
    "y_both.columns = ['Predicted Rating', 'Original Rating']\n",
    "print(y_both)"
   ]
  },
  {
   "cell_type": "code",
   "execution_count": 69,
   "id": "b549c653",
   "metadata": {},
   "outputs": [
    {
     "data": {
      "text/html": [
       "<div>\n",
       "<style scoped>\n",
       "    .dataframe tbody tr th:only-of-type {\n",
       "        vertical-align: middle;\n",
       "    }\n",
       "\n",
       "    .dataframe tbody tr th {\n",
       "        vertical-align: top;\n",
       "    }\n",
       "\n",
       "    .dataframe thead th {\n",
       "        text-align: right;\n",
       "    }\n",
       "</style>\n",
       "<table border=\"1\" class=\"dataframe\">\n",
       "  <thead>\n",
       "    <tr style=\"text-align: right;\">\n",
       "      <th></th>\n",
       "      <th>Random Forest Prediction</th>\n",
       "      <th>Logistic Regression Prediction</th>\n",
       "      <th>Decision Tree Prediction</th>\n",
       "      <th>KNN Prediction</th>\n",
       "      <th>Adaboost Prediction</th>\n",
       "      <th>Original calories</th>\n",
       "    </tr>\n",
       "  </thead>\n",
       "  <tbody>\n",
       "    <tr>\n",
       "      <th>0</th>\n",
       "      <td>PG</td>\n",
       "      <td>TV-Y7</td>\n",
       "      <td>PG</td>\n",
       "      <td>PG</td>\n",
       "      <td>TV-PG</td>\n",
       "      <td>PG</td>\n",
       "    </tr>\n",
       "    <tr>\n",
       "      <th>1</th>\n",
       "      <td>TV-PG</td>\n",
       "      <td>TV-PG</td>\n",
       "      <td>TV-PG</td>\n",
       "      <td>TV-PG</td>\n",
       "      <td>TV-MA</td>\n",
       "      <td>TV-PG</td>\n",
       "    </tr>\n",
       "    <tr>\n",
       "      <th>2</th>\n",
       "      <td>PG-13</td>\n",
       "      <td>TV-Y7</td>\n",
       "      <td>PG-13</td>\n",
       "      <td>PG-13</td>\n",
       "      <td>PG</td>\n",
       "      <td>PG-13</td>\n",
       "    </tr>\n",
       "    <tr>\n",
       "      <th>3</th>\n",
       "      <td>PG-13</td>\n",
       "      <td>TV-Y7</td>\n",
       "      <td>PG-13</td>\n",
       "      <td>PG-13</td>\n",
       "      <td>PG-13</td>\n",
       "      <td>PG-13</td>\n",
       "    </tr>\n",
       "    <tr>\n",
       "      <th>4</th>\n",
       "      <td>PG-13</td>\n",
       "      <td>R</td>\n",
       "      <td>PG-13</td>\n",
       "      <td>PG-13</td>\n",
       "      <td>R</td>\n",
       "      <td>PG-13</td>\n",
       "    </tr>\n",
       "    <tr>\n",
       "      <th>5</th>\n",
       "      <td>TV-MA</td>\n",
       "      <td>TV-Y7</td>\n",
       "      <td>TV-MA</td>\n",
       "      <td>TV-MA</td>\n",
       "      <td>TV-Y</td>\n",
       "      <td>TV-MA</td>\n",
       "    </tr>\n",
       "    <tr>\n",
       "      <th>6</th>\n",
       "      <td>TV-PG</td>\n",
       "      <td>PG</td>\n",
       "      <td>TV-PG</td>\n",
       "      <td>TV-PG</td>\n",
       "      <td>R</td>\n",
       "      <td>TV-PG</td>\n",
       "    </tr>\n",
       "    <tr>\n",
       "      <th>7</th>\n",
       "      <td>TV-14</td>\n",
       "      <td>TV-PG</td>\n",
       "      <td>TV-14</td>\n",
       "      <td>TV-14</td>\n",
       "      <td>TV-14</td>\n",
       "      <td>TV-14</td>\n",
       "    </tr>\n",
       "    <tr>\n",
       "      <th>8</th>\n",
       "      <td>R</td>\n",
       "      <td>TV-PG</td>\n",
       "      <td>R</td>\n",
       "      <td>R</td>\n",
       "      <td>R</td>\n",
       "      <td>R</td>\n",
       "    </tr>\n",
       "    <tr>\n",
       "      <th>9</th>\n",
       "      <td>TV-Y7</td>\n",
       "      <td>TV-Y7</td>\n",
       "      <td>TV-Y7</td>\n",
       "      <td>TV-Y7</td>\n",
       "      <td>TV-MA</td>\n",
       "      <td>TV-Y7</td>\n",
       "    </tr>\n",
       "    <tr>\n",
       "      <th>10</th>\n",
       "      <td>TV-Y7</td>\n",
       "      <td>TV-Y7</td>\n",
       "      <td>TV-Y7</td>\n",
       "      <td>TV-Y7</td>\n",
       "      <td>TV-MA</td>\n",
       "      <td>TV-Y7</td>\n",
       "    </tr>\n",
       "    <tr>\n",
       "      <th>11</th>\n",
       "      <td>R</td>\n",
       "      <td>R</td>\n",
       "      <td>R</td>\n",
       "      <td>R</td>\n",
       "      <td>R</td>\n",
       "      <td>R</td>\n",
       "    </tr>\n",
       "    <tr>\n",
       "      <th>12</th>\n",
       "      <td>TV-Y7</td>\n",
       "      <td>TV-Y7</td>\n",
       "      <td>TV-Y7</td>\n",
       "      <td>TV-Y7</td>\n",
       "      <td>TV-MA</td>\n",
       "      <td>TV-Y7</td>\n",
       "    </tr>\n",
       "    <tr>\n",
       "      <th>13</th>\n",
       "      <td>TV-G</td>\n",
       "      <td>R</td>\n",
       "      <td>TV-G</td>\n",
       "      <td>TV-G</td>\n",
       "      <td>R</td>\n",
       "      <td>TV-G</td>\n",
       "    </tr>\n",
       "    <tr>\n",
       "      <th>14</th>\n",
       "      <td>TV-Y</td>\n",
       "      <td>TV-PG</td>\n",
       "      <td>TV-Y</td>\n",
       "      <td>TV-Y</td>\n",
       "      <td>TV-MA</td>\n",
       "      <td>TV-Y</td>\n",
       "    </tr>\n",
       "    <tr>\n",
       "      <th>15</th>\n",
       "      <td>PG-13</td>\n",
       "      <td>TV-Y</td>\n",
       "      <td>PG-13</td>\n",
       "      <td>PG-13</td>\n",
       "      <td>PG</td>\n",
       "      <td>PG-13</td>\n",
       "    </tr>\n",
       "    <tr>\n",
       "      <th>16</th>\n",
       "      <td>TV-G</td>\n",
       "      <td>TV-Y7</td>\n",
       "      <td>TV-G</td>\n",
       "      <td>TV-G</td>\n",
       "      <td>TV-Y</td>\n",
       "      <td>TV-G</td>\n",
       "    </tr>\n",
       "    <tr>\n",
       "      <th>17</th>\n",
       "      <td>TV-Y7</td>\n",
       "      <td>TV-Y7</td>\n",
       "      <td>TV-Y7</td>\n",
       "      <td>TV-Y7</td>\n",
       "      <td>TV-Y</td>\n",
       "      <td>TV-Y7</td>\n",
       "    </tr>\n",
       "    <tr>\n",
       "      <th>18</th>\n",
       "      <td>TV-MA</td>\n",
       "      <td>TV-14</td>\n",
       "      <td>TV-MA</td>\n",
       "      <td>TV-MA</td>\n",
       "      <td>TV-PG</td>\n",
       "      <td>TV-MA</td>\n",
       "    </tr>\n",
       "    <tr>\n",
       "      <th>19</th>\n",
       "      <td>TV-MA</td>\n",
       "      <td>PG</td>\n",
       "      <td>TV-MA</td>\n",
       "      <td>TV-MA</td>\n",
       "      <td>TV-14</td>\n",
       "      <td>TV-MA</td>\n",
       "    </tr>\n",
       "  </tbody>\n",
       "</table>\n",
       "</div>"
      ],
      "text/plain": [
       "   Random Forest Prediction Logistic Regression Prediction  \\\n",
       "0                        PG                          TV-Y7   \n",
       "1                     TV-PG                          TV-PG   \n",
       "2                     PG-13                          TV-Y7   \n",
       "3                     PG-13                          TV-Y7   \n",
       "4                     PG-13                              R   \n",
       "5                     TV-MA                          TV-Y7   \n",
       "6                     TV-PG                             PG   \n",
       "7                     TV-14                          TV-PG   \n",
       "8                         R                          TV-PG   \n",
       "9                     TV-Y7                          TV-Y7   \n",
       "10                    TV-Y7                          TV-Y7   \n",
       "11                        R                              R   \n",
       "12                    TV-Y7                          TV-Y7   \n",
       "13                     TV-G                              R   \n",
       "14                     TV-Y                          TV-PG   \n",
       "15                    PG-13                           TV-Y   \n",
       "16                     TV-G                          TV-Y7   \n",
       "17                    TV-Y7                          TV-Y7   \n",
       "18                    TV-MA                          TV-14   \n",
       "19                    TV-MA                             PG   \n",
       "\n",
       "   Decision Tree Prediction KNN Prediction Adaboost Prediction  \\\n",
       "0                        PG             PG               TV-PG   \n",
       "1                     TV-PG          TV-PG               TV-MA   \n",
       "2                     PG-13          PG-13                  PG   \n",
       "3                     PG-13          PG-13               PG-13   \n",
       "4                     PG-13          PG-13                   R   \n",
       "5                     TV-MA          TV-MA                TV-Y   \n",
       "6                     TV-PG          TV-PG                   R   \n",
       "7                     TV-14          TV-14               TV-14   \n",
       "8                         R              R                   R   \n",
       "9                     TV-Y7          TV-Y7               TV-MA   \n",
       "10                    TV-Y7          TV-Y7               TV-MA   \n",
       "11                        R              R                   R   \n",
       "12                    TV-Y7          TV-Y7               TV-MA   \n",
       "13                     TV-G           TV-G                   R   \n",
       "14                     TV-Y           TV-Y               TV-MA   \n",
       "15                    PG-13          PG-13                  PG   \n",
       "16                     TV-G           TV-G                TV-Y   \n",
       "17                    TV-Y7          TV-Y7                TV-Y   \n",
       "18                    TV-MA          TV-MA               TV-PG   \n",
       "19                    TV-MA          TV-MA               TV-14   \n",
       "\n",
       "   Original calories  \n",
       "0                 PG  \n",
       "1              TV-PG  \n",
       "2              PG-13  \n",
       "3              PG-13  \n",
       "4              PG-13  \n",
       "5              TV-MA  \n",
       "6              TV-PG  \n",
       "7              TV-14  \n",
       "8                  R  \n",
       "9              TV-Y7  \n",
       "10             TV-Y7  \n",
       "11                 R  \n",
       "12             TV-Y7  \n",
       "13              TV-G  \n",
       "14              TV-Y  \n",
       "15             PG-13  \n",
       "16              TV-G  \n",
       "17             TV-Y7  \n",
       "18             TV-MA  \n",
       "19             TV-MA  "
      ]
     },
     "execution_count": 69,
     "metadata": {},
     "output_type": "execute_result"
    }
   ],
   "source": [
    "master_prediction = pd.concat([rf_df, logreg_df, dt_df, knn_df, adaboost_df, result_adaboost], axis = 1)\n",
    "master_prediction.columns = ['Random Forest Prediction', 'Logistic Regression Prediction','Decision Tree Prediction',\n",
    "                             'KNN Prediction','Adaboost Prediction', 'Original Rating']\n",
    "master_prediction.head(20)"
   ]
  },
  {
   "cell_type": "code",
   "execution_count": 70,
   "id": "29250bac",
   "metadata": {},
   "outputs": [
    {
     "name": "stdout",
     "output_type": "stream",
     "text": [
      "Random Forest Accuracy: 1.00\n",
      "Logistic Regression Accuracy: 0.18\n",
      "Decision Tree Accuracy: 1.00\n",
      "KNN Accuracy: 0.95\n",
      "Adaboost Accuracy: 0.29\n"
     ]
    }
   ],
   "source": [
    "models = ['Random Forest', 'Logistic Regression', 'Decision Tree', 'KNN', 'Adaboost']\n",
    "predictions = [y_pred_rf, y_pred_logreg, y_pred_dt, y_pred_knn, y_pred_adaboost]\n",
    "\n",
    "for model_name, y_pred in zip(models, predictions):\n",
    "    accuracy = accuracy_score(y_test, y_pred)\n",
    "    print(f\"{model_name} Accuracy: {accuracy:.2f}\")"
   ]
  },
  {
   "cell_type": "markdown",
   "id": "83bec71e",
   "metadata": {},
   "source": [
    "* Based on the provided accuracy values for each model on the test dataset:\n",
    "\n",
    "- The Random Forest and Decision Tree models exhibit perfect accuracy (1.00).\n",
    "\n",
    "- The K-Nearest Neighbors (KNN) model achieves a high accuracy of 0.95, indicating robust performance on the test data. This suggests that the KNN model might be a good choice for this classification task."
   ]
  },
  {
   "cell_type": "code",
   "execution_count": 71,
   "id": "2efebd67",
   "metadata": {},
   "outputs": [
    {
     "name": "stdout",
     "output_type": "stream",
     "text": [
      "Thank You\n"
     ]
    }
   ],
   "source": [
    "print(\"Thank You\")"
   ]
  }
 ],
 "metadata": {
  "kernelspec": {
   "display_name": "Python 3 (ipykernel)",
   "language": "python",
   "name": "python3"
  },
  "language_info": {
   "codemirror_mode": {
    "name": "ipython",
    "version": 3
   },
   "file_extension": ".py",
   "mimetype": "text/x-python",
   "name": "python",
   "nbconvert_exporter": "python",
   "pygments_lexer": "ipython3",
   "version": "3.10.9"
  }
 },
 "nbformat": 4,
 "nbformat_minor": 5
}
